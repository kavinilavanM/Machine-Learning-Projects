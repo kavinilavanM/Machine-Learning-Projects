{
 "cells": [
  {
   "cell_type": "markdown",
   "id": "f1c5e6b7",
   "metadata": {},
   "source": [
    "#                        HOUSE PRICE PREDICTION - REGRESSION"
   ]
  },
  {
   "cell_type": "markdown",
   "id": "7c68cba5",
   "metadata": {},
   "source": [
    "# Name: Sodiq Lawal\n",
    "\n",
    "# Student ID: B1259326\n"
   ]
  },
  {
   "cell_type": "raw",
   "id": "60ecb8dc",
   "metadata": {},
   "source": [
    "the aim of this project(house price prediction in the united states) is to develop the well performed regression model with low error rates for real estate sectors. this approach can identify the estimation price of houses in particular states. for feeting some input features like sqft, bhk and so on. \n",
    "The Tasks involves in project are as follow:\n",
    "1. Data Engineering\n",
    "      Removing outliers\n",
    "      convert Data types\n",
    "      cleaning the datasets\n",
    "      Understanting the relationship b/w two variables.\n",
    "      Convert categorical into numerical\n",
    "      univariate analysis\n",
    "      Multi variate analysis\n",
    "      \n",
    "2. Data Visualization\n",
    "\n",
    "3. Features selection\n",
    "      Pearson corelation in Heatmap\n",
    "      Mutual information in Regression\n",
    "      \n",
    "4. Dimensionality Reduction\n",
    "      \n",
    "5. Model Building\n",
    "      Random Forest Regression\n",
    "      Extreme Gradient Boosting\n",
    "      Gradient Boosting\n",
    "      Light GBM\n",
    "      \n",
    "6. Hyper parameter Tuning\n",
    "\n",
    "7. Evaluating the Model\n",
    "     Root Mean Square error\n",
    "     Mean Square Error\n",
    "     Mean Absolute Error\n",
    "     R Square"
   ]
  },
  {
   "cell_type": "markdown",
   "id": "f9a315da",
   "metadata": {},
   "source": [
    "## Import packages"
   ]
  },
  {
   "cell_type": "code",
   "execution_count": 1,
   "id": "cae4f8a5",
   "metadata": {},
   "outputs": [
    {
     "data": {
      "text/html": [
       "<div>\n",
       "<style scoped>\n",
       "    .dataframe tbody tr th:only-of-type {\n",
       "        vertical-align: middle;\n",
       "    }\n",
       "\n",
       "    .dataframe tbody tr th {\n",
       "        vertical-align: top;\n",
       "    }\n",
       "\n",
       "    .dataframe thead th {\n",
       "        text-align: right;\n",
       "    }\n",
       "</style>\n",
       "<table border=\"1\" class=\"dataframe\">\n",
       "  <thead>\n",
       "    <tr style=\"text-align: right;\">\n",
       "      <th></th>\n",
       "      <th>date</th>\n",
       "      <th>price</th>\n",
       "      <th>bedrooms</th>\n",
       "      <th>bathrooms</th>\n",
       "      <th>sqft_living</th>\n",
       "      <th>sqft_lot</th>\n",
       "      <th>floors</th>\n",
       "      <th>waterfront</th>\n",
       "      <th>view</th>\n",
       "      <th>condition</th>\n",
       "      <th>sqft_above</th>\n",
       "      <th>sqft_basement</th>\n",
       "      <th>yr_built</th>\n",
       "      <th>yr_renovated</th>\n",
       "      <th>street</th>\n",
       "      <th>city</th>\n",
       "      <th>statezip</th>\n",
       "      <th>country</th>\n",
       "    </tr>\n",
       "  </thead>\n",
       "  <tbody>\n",
       "    <tr>\n",
       "      <th>0</th>\n",
       "      <td>2014-05-02 00:00:00</td>\n",
       "      <td>313000.0</td>\n",
       "      <td>3.0</td>\n",
       "      <td>1.50</td>\n",
       "      <td>1340</td>\n",
       "      <td>7912</td>\n",
       "      <td>1.5</td>\n",
       "      <td>0</td>\n",
       "      <td>0</td>\n",
       "      <td>3</td>\n",
       "      <td>1340</td>\n",
       "      <td>0</td>\n",
       "      <td>1955</td>\n",
       "      <td>2005</td>\n",
       "      <td>18810 Densmore Ave N</td>\n",
       "      <td>Shoreline</td>\n",
       "      <td>WA 98133</td>\n",
       "      <td>USA</td>\n",
       "    </tr>\n",
       "    <tr>\n",
       "      <th>1</th>\n",
       "      <td>2014-05-02 00:00:00</td>\n",
       "      <td>2384000.0</td>\n",
       "      <td>5.0</td>\n",
       "      <td>2.50</td>\n",
       "      <td>3650</td>\n",
       "      <td>9050</td>\n",
       "      <td>2.0</td>\n",
       "      <td>0</td>\n",
       "      <td>4</td>\n",
       "      <td>5</td>\n",
       "      <td>3370</td>\n",
       "      <td>280</td>\n",
       "      <td>1921</td>\n",
       "      <td>0</td>\n",
       "      <td>709 W Blaine St</td>\n",
       "      <td>Seattle</td>\n",
       "      <td>WA 98119</td>\n",
       "      <td>USA</td>\n",
       "    </tr>\n",
       "    <tr>\n",
       "      <th>2</th>\n",
       "      <td>2014-05-02 00:00:00</td>\n",
       "      <td>342000.0</td>\n",
       "      <td>3.0</td>\n",
       "      <td>2.00</td>\n",
       "      <td>1930</td>\n",
       "      <td>11947</td>\n",
       "      <td>1.0</td>\n",
       "      <td>0</td>\n",
       "      <td>0</td>\n",
       "      <td>4</td>\n",
       "      <td>1930</td>\n",
       "      <td>0</td>\n",
       "      <td>1966</td>\n",
       "      <td>0</td>\n",
       "      <td>26206-26214 143rd Ave SE</td>\n",
       "      <td>Kent</td>\n",
       "      <td>WA 98042</td>\n",
       "      <td>USA</td>\n",
       "    </tr>\n",
       "    <tr>\n",
       "      <th>3</th>\n",
       "      <td>2014-05-02 00:00:00</td>\n",
       "      <td>420000.0</td>\n",
       "      <td>3.0</td>\n",
       "      <td>2.25</td>\n",
       "      <td>2000</td>\n",
       "      <td>8030</td>\n",
       "      <td>1.0</td>\n",
       "      <td>0</td>\n",
       "      <td>0</td>\n",
       "      <td>4</td>\n",
       "      <td>1000</td>\n",
       "      <td>1000</td>\n",
       "      <td>1963</td>\n",
       "      <td>0</td>\n",
       "      <td>857 170th Pl NE</td>\n",
       "      <td>Bellevue</td>\n",
       "      <td>WA 98008</td>\n",
       "      <td>USA</td>\n",
       "    </tr>\n",
       "    <tr>\n",
       "      <th>4</th>\n",
       "      <td>2014-05-02 00:00:00</td>\n",
       "      <td>550000.0</td>\n",
       "      <td>4.0</td>\n",
       "      <td>2.50</td>\n",
       "      <td>1940</td>\n",
       "      <td>10500</td>\n",
       "      <td>1.0</td>\n",
       "      <td>0</td>\n",
       "      <td>0</td>\n",
       "      <td>4</td>\n",
       "      <td>1140</td>\n",
       "      <td>800</td>\n",
       "      <td>1976</td>\n",
       "      <td>1992</td>\n",
       "      <td>9105 170th Ave NE</td>\n",
       "      <td>Redmond</td>\n",
       "      <td>WA 98052</td>\n",
       "      <td>USA</td>\n",
       "    </tr>\n",
       "  </tbody>\n",
       "</table>\n",
       "</div>"
      ],
      "text/plain": [
       "                  date      price  bedrooms  bathrooms  sqft_living  sqft_lot  \\\n",
       "0  2014-05-02 00:00:00   313000.0       3.0       1.50         1340      7912   \n",
       "1  2014-05-02 00:00:00  2384000.0       5.0       2.50         3650      9050   \n",
       "2  2014-05-02 00:00:00   342000.0       3.0       2.00         1930     11947   \n",
       "3  2014-05-02 00:00:00   420000.0       3.0       2.25         2000      8030   \n",
       "4  2014-05-02 00:00:00   550000.0       4.0       2.50         1940     10500   \n",
       "\n",
       "   floors  waterfront  view  condition  sqft_above  sqft_basement  yr_built  \\\n",
       "0     1.5           0     0          3        1340              0      1955   \n",
       "1     2.0           0     4          5        3370            280      1921   \n",
       "2     1.0           0     0          4        1930              0      1966   \n",
       "3     1.0           0     0          4        1000           1000      1963   \n",
       "4     1.0           0     0          4        1140            800      1976   \n",
       "\n",
       "   yr_renovated                    street       city  statezip country  \n",
       "0          2005      18810 Densmore Ave N  Shoreline  WA 98133     USA  \n",
       "1             0           709 W Blaine St    Seattle  WA 98119     USA  \n",
       "2             0  26206-26214 143rd Ave SE       Kent  WA 98042     USA  \n",
       "3             0           857 170th Pl NE   Bellevue  WA 98008     USA  \n",
       "4          1992         9105 170th Ave NE    Redmond  WA 98052     USA  "
      ]
     },
     "execution_count": 1,
     "metadata": {},
     "output_type": "execute_result"
    }
   ],
   "source": [
    "import numpy as np# scientific computing.\n",
    "import pandas as pd #easy manipulation of data structures.\n",
    "import matplotlib.pyplot as plt # data visualization\n",
    "import seaborn as sns # data visualization\n",
    "# for plotting the chart in same notebook\n",
    "%matplotlib inline \n",
    "import warnings\n",
    "warnings.filterwarnings(\"ignore\") # ignore the warning\n",
    "data=pd.read_csv(\"output.csv\") # loading housing datasets\n",
    "data.head()# showing top 5 records in the dataset\n"
   ]
  },
  {
   "cell_type": "markdown",
   "id": "24fa54f8",
   "metadata": {},
   "source": [
    "## Data Exploaration and Feature Engineering"
   ]
  },
  {
   "cell_type": "code",
   "execution_count": 2,
   "id": "19556cca",
   "metadata": {},
   "outputs": [
    {
     "name": "stdout",
     "output_type": "stream",
     "text": [
      "shape of the dataset is : (4600, 18)\n"
     ]
    }
   ],
   "source": [
    "# finding shape of the dataset\n",
    "shape=data.shape\n",
    "print(\"shape of the dataset is :\",shape)"
   ]
  },
  {
   "cell_type": "code",
   "execution_count": 3,
   "id": "d1f3a32c",
   "metadata": {},
   "outputs": [
    {
     "data": {
      "image/png": "[encoded data removed]",
      "text/plain": [
       "<Figure size 720x432 with 2 Axes>"
      ]
     },
     "metadata": {
      "needs_background": "light"
     },
     "output_type": "display_data"
    }
   ],
   "source": [
    "#exploaring missing value using heatmap\n",
    "#this chart showing missing value in different colour.\n",
    "plt.figure(figsize=(10,6))\n",
    "sns.heatmap(data.isna().transpose(),\n",
    "            cmap=\"YlGnBu\",\n",
    "            cbar_kws={'label': 'Missing Data'})\n",
    "plt.savefig(\"visualizing_missing_data_with_heatmap_Seaborn_Python.png\", dpi=150)"
   ]
  },
  {
   "cell_type": "code",
   "execution_count": 4,
   "id": "d6969360",
   "metadata": {},
   "outputs": [
    {
     "data": {
      "text/plain": [
       "date             0\n",
       "price            0\n",
       "bedrooms         0\n",
       "bathrooms        0\n",
       "sqft_living      0\n",
       "sqft_lot         0\n",
       "floors           0\n",
       "waterfront       0\n",
       "view             0\n",
       "condition        0\n",
       "sqft_above       0\n",
       "sqft_basement    0\n",
       "yr_built         0\n",
       "yr_renovated     0\n",
       "street           0\n",
       "city             0\n",
       "statezip         0\n",
       "country          0\n",
       "dtype: int64"
      ]
     },
     "execution_count": 4,
     "metadata": {},
     "output_type": "execute_result"
    }
   ],
   "source": [
    "# checking missing values\n",
    "data.isnull().sum()"
   ]
  },
  {
   "cell_type": "code",
   "execution_count": 5,
   "id": "9bafc0be",
   "metadata": {},
   "outputs": [
    {
     "name": "stdout",
     "output_type": "stream",
     "text": [
      "<class 'pandas.core.frame.DataFrame'>\n",
      "RangeIndex: 4600 entries, 0 to 4599\n",
      "Data columns (total 18 columns):\n",
      " #   Column         Non-Null Count  Dtype  \n",
      "---  ------         --------------  -----  \n",
      " 0   date           4600 non-null   object \n",
      " 1   price          4600 non-null   float64\n",
      " 2   bedrooms       4600 non-null   float64\n",
      " 3   bathrooms      4600 non-null   float64\n",
      " 4   sqft_living    4600 non-null   int64  \n",
      " 5   sqft_lot       4600 non-null   int64  \n",
      " 6   floors         4600 non-null   float64\n",
      " 7   waterfront     4600 non-null   int64  \n",
      " 8   view           4600 non-null   int64  \n",
      " 9   condition      4600 non-null   int64  \n",
      " 10  sqft_above     4600 non-null   int64  \n",
      " 11  sqft_basement  4600 non-null   int64  \n",
      " 12  yr_built       4600 non-null   int64  \n",
      " 13  yr_renovated   4600 non-null   int64  \n",
      " 14  street         4600 non-null   object \n",
      " 15  city           4600 non-null   object \n",
      " 16  statezip       4600 non-null   object \n",
      " 17  country        4600 non-null   object \n",
      "dtypes: float64(4), int64(9), object(5)\n",
      "memory usage: 647.0+ KB\n"
     ]
    }
   ],
   "source": [
    "# information of columns\n",
    "data.info()"
   ]
  },
  {
   "cell_type": "code",
   "execution_count": 6,
   "id": "5af45a4b",
   "metadata": {},
   "outputs": [
    {
     "data": {
      "text/plain": [
       "date               70\n",
       "price            1741\n",
       "bedrooms           10\n",
       "bathrooms          26\n",
       "sqft_living       566\n",
       "sqft_lot         3113\n",
       "floors              6\n",
       "waterfront          2\n",
       "view                5\n",
       "condition           5\n",
       "sqft_above        511\n",
       "sqft_basement     207\n",
       "yr_built          115\n",
       "yr_renovated       60\n",
       "street           4525\n",
       "city               44\n",
       "statezip           77\n",
       "country             1\n",
       "dtype: int64"
      ]
     },
     "execution_count": 6,
     "metadata": {},
     "output_type": "execute_result"
    }
   ],
   "source": [
    "# getting unique values in each columns\n",
    "data.nunique()"
   ]
  },
  {
   "cell_type": "code",
   "execution_count": 7,
   "id": "b01b953a",
   "metadata": {},
   "outputs": [
    {
     "data": {
      "text/plain": [
       "array(['USA'], dtype=object)"
      ]
     },
     "execution_count": 7,
     "metadata": {},
     "output_type": "execute_result"
    }
   ],
   "source": [
    "# getting unique records in country columns\n",
    "data[\"country\"].unique()"
   ]
  },
  {
   "cell_type": "markdown",
   "id": "c190e6d2",
   "metadata": {},
   "source": [
    "country feature has a single value i.e., USA, so,this column  is not useful to fit the model.so, it is better to remove this column before fitting the model"
   ]
  },
  {
   "cell_type": "code",
   "execution_count": 8,
   "id": "25189295",
   "metadata": {},
   "outputs": [
    {
     "data": {
      "text/html": [
       "<div>\n",
       "<style scoped>\n",
       "    .dataframe tbody tr th:only-of-type {\n",
       "        vertical-align: middle;\n",
       "    }\n",
       "\n",
       "    .dataframe tbody tr th {\n",
       "        vertical-align: top;\n",
       "    }\n",
       "\n",
       "    .dataframe thead th {\n",
       "        text-align: right;\n",
       "    }\n",
       "</style>\n",
       "<table border=\"1\" class=\"dataframe\">\n",
       "  <thead>\n",
       "    <tr style=\"text-align: right;\">\n",
       "      <th></th>\n",
       "      <th>price</th>\n",
       "      <th>bedrooms</th>\n",
       "      <th>bathrooms</th>\n",
       "      <th>sqft_living</th>\n",
       "      <th>sqft_lot</th>\n",
       "      <th>floors</th>\n",
       "      <th>waterfront</th>\n",
       "      <th>view</th>\n",
       "      <th>condition</th>\n",
       "      <th>sqft_above</th>\n",
       "      <th>sqft_basement</th>\n",
       "      <th>yr_built</th>\n",
       "      <th>yr_renovated</th>\n",
       "    </tr>\n",
       "  </thead>\n",
       "  <tbody>\n",
       "    <tr>\n",
       "      <th>count</th>\n",
       "      <td>4.600000e+03</td>\n",
       "      <td>4600.000000</td>\n",
       "      <td>4600.000000</td>\n",
       "      <td>4600.000000</td>\n",
       "      <td>4.600000e+03</td>\n",
       "      <td>4600.000000</td>\n",
       "      <td>4600.000000</td>\n",
       "      <td>4600.000000</td>\n",
       "      <td>4600.000000</td>\n",
       "      <td>4600.000000</td>\n",
       "      <td>4600.000000</td>\n",
       "      <td>4600.000000</td>\n",
       "      <td>4600.000000</td>\n",
       "    </tr>\n",
       "    <tr>\n",
       "      <th>mean</th>\n",
       "      <td>5.519630e+05</td>\n",
       "      <td>3.400870</td>\n",
       "      <td>2.160815</td>\n",
       "      <td>2139.103478</td>\n",
       "      <td>1.485252e+04</td>\n",
       "      <td>1.512065</td>\n",
       "      <td>0.007174</td>\n",
       "      <td>0.240652</td>\n",
       "      <td>3.451739</td>\n",
       "      <td>1827.265435</td>\n",
       "      <td>312.081522</td>\n",
       "      <td>1970.786304</td>\n",
       "      <td>808.608261</td>\n",
       "    </tr>\n",
       "    <tr>\n",
       "      <th>std</th>\n",
       "      <td>5.638347e+05</td>\n",
       "      <td>0.908848</td>\n",
       "      <td>0.783781</td>\n",
       "      <td>963.159990</td>\n",
       "      <td>3.588444e+04</td>\n",
       "      <td>0.538288</td>\n",
       "      <td>0.084404</td>\n",
       "      <td>0.778405</td>\n",
       "      <td>0.677230</td>\n",
       "      <td>862.168977</td>\n",
       "      <td>464.137228</td>\n",
       "      <td>29.731848</td>\n",
       "      <td>979.414536</td>\n",
       "    </tr>\n",
       "    <tr>\n",
       "      <th>min</th>\n",
       "      <td>0.000000e+00</td>\n",
       "      <td>0.000000</td>\n",
       "      <td>0.000000</td>\n",
       "      <td>370.000000</td>\n",
       "      <td>6.380000e+02</td>\n",
       "      <td>1.000000</td>\n",
       "      <td>0.000000</td>\n",
       "      <td>0.000000</td>\n",
       "      <td>1.000000</td>\n",
       "      <td>370.000000</td>\n",
       "      <td>0.000000</td>\n",
       "      <td>1900.000000</td>\n",
       "      <td>0.000000</td>\n",
       "    </tr>\n",
       "    <tr>\n",
       "      <th>25%</th>\n",
       "      <td>3.228750e+05</td>\n",
       "      <td>3.000000</td>\n",
       "      <td>1.750000</td>\n",
       "      <td>1460.000000</td>\n",
       "      <td>5.000750e+03</td>\n",
       "      <td>1.000000</td>\n",
       "      <td>0.000000</td>\n",
       "      <td>0.000000</td>\n",
       "      <td>3.000000</td>\n",
       "      <td>1190.000000</td>\n",
       "      <td>0.000000</td>\n",
       "      <td>1951.000000</td>\n",
       "      <td>0.000000</td>\n",
       "    </tr>\n",
       "    <tr>\n",
       "      <th>50%</th>\n",
       "      <td>4.609435e+05</td>\n",
       "      <td>3.000000</td>\n",
       "      <td>2.250000</td>\n",
       "      <td>1980.000000</td>\n",
       "      <td>7.683000e+03</td>\n",
       "      <td>1.500000</td>\n",
       "      <td>0.000000</td>\n",
       "      <td>0.000000</td>\n",
       "      <td>3.000000</td>\n",
       "      <td>1590.000000</td>\n",
       "      <td>0.000000</td>\n",
       "      <td>1976.000000</td>\n",
       "      <td>0.000000</td>\n",
       "    </tr>\n",
       "    <tr>\n",
       "      <th>75%</th>\n",
       "      <td>6.549625e+05</td>\n",
       "      <td>4.000000</td>\n",
       "      <td>2.500000</td>\n",
       "      <td>2620.000000</td>\n",
       "      <td>1.100125e+04</td>\n",
       "      <td>2.000000</td>\n",
       "      <td>0.000000</td>\n",
       "      <td>0.000000</td>\n",
       "      <td>4.000000</td>\n",
       "      <td>2300.000000</td>\n",
       "      <td>610.000000</td>\n",
       "      <td>1997.000000</td>\n",
       "      <td>1999.000000</td>\n",
       "    </tr>\n",
       "    <tr>\n",
       "      <th>max</th>\n",
       "      <td>2.659000e+07</td>\n",
       "      <td>9.000000</td>\n",
       "      <td>8.000000</td>\n",
       "      <td>13540.000000</td>\n",
       "      <td>1.074218e+06</td>\n",
       "      <td>3.500000</td>\n",
       "      <td>1.000000</td>\n",
       "      <td>4.000000</td>\n",
       "      <td>5.000000</td>\n",
       "      <td>9410.000000</td>\n",
       "      <td>4820.000000</td>\n",
       "      <td>2014.000000</td>\n",
       "      <td>2014.000000</td>\n",
       "    </tr>\n",
       "  </tbody>\n",
       "</table>\n",
       "</div>"
      ],
      "text/plain": [
       "              price     bedrooms    bathrooms   sqft_living      sqft_lot  \\\n",
       "count  4.600000e+03  4600.000000  4600.000000   4600.000000  4.600000e+03   \n",
       "mean   5.519630e+05     3.400870     2.160815   2139.103478  1.485252e+04   \n",
       "std    5.638347e+05     0.908848     0.783781    963.159990  3.588444e+04   \n",
       "min    0.000000e+00     0.000000     0.000000    370.000000  6.380000e+02   \n",
       "25%    3.228750e+05     3.000000     1.750000   1460.000000  5.000750e+03   \n",
       "50%    4.609435e+05     3.000000     2.250000   1980.000000  7.683000e+03   \n",
       "75%    6.549625e+05     4.000000     2.500000   2620.000000  1.100125e+04   \n",
       "max    2.659000e+07     9.000000     8.000000  13540.000000  1.074218e+06   \n",
       "\n",
       "            floors   waterfront         view    condition   sqft_above  \\\n",
       "count  4600.000000  4600.000000  4600.000000  4600.000000  4600.000000   \n",
       "mean      1.512065     0.007174     0.240652     3.451739  1827.265435   \n",
       "std       0.538288     0.084404     0.778405     0.677230   862.168977   \n",
       "min       1.000000     0.000000     0.000000     1.000000   370.000000   \n",
       "25%       1.000000     0.000000     0.000000     3.000000  1190.000000   \n",
       "50%       1.500000     0.000000     0.000000     3.000000  1590.000000   \n",
       "75%       2.000000     0.000000     0.000000     4.000000  2300.000000   \n",
       "max       3.500000     1.000000     4.000000     5.000000  9410.000000   \n",
       "\n",
       "       sqft_basement     yr_built  yr_renovated  \n",
       "count    4600.000000  4600.000000   4600.000000  \n",
       "mean      312.081522  1970.786304    808.608261  \n",
       "std       464.137228    29.731848    979.414536  \n",
       "min         0.000000  1900.000000      0.000000  \n",
       "25%         0.000000  1951.000000      0.000000  \n",
       "50%         0.000000  1976.000000      0.000000  \n",
       "75%       610.000000  1997.000000   1999.000000  \n",
       "max      4820.000000  2014.000000   2014.000000  "
      ]
     },
     "execution_count": 8,
     "metadata": {},
     "output_type": "execute_result"
    }
   ],
   "source": [
    "# getting statistics of numeric columns\n",
    "data.describe()"
   ]
  },
  {
   "cell_type": "raw",
   "id": "408f0578",
   "metadata": {},
   "source": [
    "lets explore the very first column called date"
   ]
  },
  {
   "cell_type": "code",
   "execution_count": 9,
   "id": "9f79cf64",
   "metadata": {},
   "outputs": [
    {
     "data": {
      "text/html": [
       "<div>\n",
       "<style scoped>\n",
       "    .dataframe tbody tr th:only-of-type {\n",
       "        vertical-align: middle;\n",
       "    }\n",
       "\n",
       "    .dataframe tbody tr th {\n",
       "        vertical-align: top;\n",
       "    }\n",
       "\n",
       "    .dataframe thead th {\n",
       "        text-align: right;\n",
       "    }\n",
       "</style>\n",
       "<table border=\"1\" class=\"dataframe\">\n",
       "  <thead>\n",
       "    <tr style=\"text-align: right;\">\n",
       "      <th></th>\n",
       "      <th>price</th>\n",
       "      <th>bedrooms</th>\n",
       "      <th>bathrooms</th>\n",
       "      <th>sqft_living</th>\n",
       "      <th>sqft_lot</th>\n",
       "      <th>floors</th>\n",
       "      <th>waterfront</th>\n",
       "      <th>view</th>\n",
       "      <th>condition</th>\n",
       "      <th>sqft_above</th>\n",
       "      <th>sqft_basement</th>\n",
       "      <th>yr_built</th>\n",
       "      <th>yr_renovated</th>\n",
       "      <th>street</th>\n",
       "      <th>city</th>\n",
       "      <th>statezip</th>\n",
       "      <th>country</th>\n",
       "      <th>day</th>\n",
       "      <th>month</th>\n",
       "      <th>year</th>\n",
       "    </tr>\n",
       "  </thead>\n",
       "  <tbody>\n",
       "    <tr>\n",
       "      <th>0</th>\n",
       "      <td>313000.0</td>\n",
       "      <td>3.0</td>\n",
       "      <td>1.50</td>\n",
       "      <td>1340</td>\n",
       "      <td>7912</td>\n",
       "      <td>1.5</td>\n",
       "      <td>0</td>\n",
       "      <td>0</td>\n",
       "      <td>3</td>\n",
       "      <td>1340</td>\n",
       "      <td>0</td>\n",
       "      <td>1955</td>\n",
       "      <td>2005</td>\n",
       "      <td>18810 Densmore Ave N</td>\n",
       "      <td>Shoreline</td>\n",
       "      <td>WA 98133</td>\n",
       "      <td>USA</td>\n",
       "      <td>2</td>\n",
       "      <td>5</td>\n",
       "      <td>2014</td>\n",
       "    </tr>\n",
       "    <tr>\n",
       "      <th>1</th>\n",
       "      <td>2384000.0</td>\n",
       "      <td>5.0</td>\n",
       "      <td>2.50</td>\n",
       "      <td>3650</td>\n",
       "      <td>9050</td>\n",
       "      <td>2.0</td>\n",
       "      <td>0</td>\n",
       "      <td>4</td>\n",
       "      <td>5</td>\n",
       "      <td>3370</td>\n",
       "      <td>280</td>\n",
       "      <td>1921</td>\n",
       "      <td>0</td>\n",
       "      <td>709 W Blaine St</td>\n",
       "      <td>Seattle</td>\n",
       "      <td>WA 98119</td>\n",
       "      <td>USA</td>\n",
       "      <td>2</td>\n",
       "      <td>5</td>\n",
       "      <td>2014</td>\n",
       "    </tr>\n",
       "    <tr>\n",
       "      <th>2</th>\n",
       "      <td>342000.0</td>\n",
       "      <td>3.0</td>\n",
       "      <td>2.00</td>\n",
       "      <td>1930</td>\n",
       "      <td>11947</td>\n",
       "      <td>1.0</td>\n",
       "      <td>0</td>\n",
       "      <td>0</td>\n",
       "      <td>4</td>\n",
       "      <td>1930</td>\n",
       "      <td>0</td>\n",
       "      <td>1966</td>\n",
       "      <td>0</td>\n",
       "      <td>26206-26214 143rd Ave SE</td>\n",
       "      <td>Kent</td>\n",
       "      <td>WA 98042</td>\n",
       "      <td>USA</td>\n",
       "      <td>2</td>\n",
       "      <td>5</td>\n",
       "      <td>2014</td>\n",
       "    </tr>\n",
       "    <tr>\n",
       "      <th>3</th>\n",
       "      <td>420000.0</td>\n",
       "      <td>3.0</td>\n",
       "      <td>2.25</td>\n",
       "      <td>2000</td>\n",
       "      <td>8030</td>\n",
       "      <td>1.0</td>\n",
       "      <td>0</td>\n",
       "      <td>0</td>\n",
       "      <td>4</td>\n",
       "      <td>1000</td>\n",
       "      <td>1000</td>\n",
       "      <td>1963</td>\n",
       "      <td>0</td>\n",
       "      <td>857 170th Pl NE</td>\n",
       "      <td>Bellevue</td>\n",
       "      <td>WA 98008</td>\n",
       "      <td>USA</td>\n",
       "      <td>2</td>\n",
       "      <td>5</td>\n",
       "      <td>2014</td>\n",
       "    </tr>\n",
       "    <tr>\n",
       "      <th>4</th>\n",
       "      <td>550000.0</td>\n",
       "      <td>4.0</td>\n",
       "      <td>2.50</td>\n",
       "      <td>1940</td>\n",
       "      <td>10500</td>\n",
       "      <td>1.0</td>\n",
       "      <td>0</td>\n",
       "      <td>0</td>\n",
       "      <td>4</td>\n",
       "      <td>1140</td>\n",
       "      <td>800</td>\n",
       "      <td>1976</td>\n",
       "      <td>1992</td>\n",
       "      <td>9105 170th Ave NE</td>\n",
       "      <td>Redmond</td>\n",
       "      <td>WA 98052</td>\n",
       "      <td>USA</td>\n",
       "      <td>2</td>\n",
       "      <td>5</td>\n",
       "      <td>2014</td>\n",
       "    </tr>\n",
       "  </tbody>\n",
       "</table>\n",
       "</div>"
      ],
      "text/plain": [
       "       price  bedrooms  bathrooms  sqft_living  sqft_lot  floors  waterfront  \\\n",
       "0   313000.0       3.0       1.50         1340      7912     1.5           0   \n",
       "1  2384000.0       5.0       2.50         3650      9050     2.0           0   \n",
       "2   342000.0       3.0       2.00         1930     11947     1.0           0   \n",
       "3   420000.0       3.0       2.25         2000      8030     1.0           0   \n",
       "4   550000.0       4.0       2.50         1940     10500     1.0           0   \n",
       "\n",
       "   view  condition  sqft_above  sqft_basement  yr_built  yr_renovated  \\\n",
       "0     0          3        1340              0      1955          2005   \n",
       "1     4          5        3370            280      1921             0   \n",
       "2     0          4        1930              0      1966             0   \n",
       "3     0          4        1000           1000      1963             0   \n",
       "4     0          4        1140            800      1976          1992   \n",
       "\n",
       "                     street       city  statezip country  day  month  year  \n",
       "0      18810 Densmore Ave N  Shoreline  WA 98133     USA    2      5  2014  \n",
       "1           709 W Blaine St    Seattle  WA 98119     USA    2      5  2014  \n",
       "2  26206-26214 143rd Ave SE       Kent  WA 98042     USA    2      5  2014  \n",
       "3           857 170th Pl NE   Bellevue  WA 98008     USA    2      5  2014  \n",
       "4         9105 170th Ave NE    Redmond  WA 98052     USA    2      5  2014  "
      ]
     },
     "execution_count": 9,
     "metadata": {},
     "output_type": "execute_result"
    }
   ],
   "source": [
    "# import datetime libraries \n",
    "# here i seperate the date column into month, day, year\n",
    "import datetime as dt # datetime packages\n",
    "\n",
    "data[\"date\"]= pd.to_datetime(data[\"date\"])\n",
    "\n",
    "data[\"day\"] = data[\"date\"].dt.day # seperate column for date\n",
    "data[\"month\"] = data[\"date\"].dt.month# seperate column for month\n",
    "data[\"year\"] = data[\"date\"].dt.year# seperate column for year\n",
    "\n",
    "data = data.drop(columns=[\"date\"]) # droping the existing column\n",
    "\n",
    "data.head()# print top 5 entities"
   ]
  },
  {
   "cell_type": "code",
   "execution_count": 10,
   "id": "0b10bd4f",
   "metadata": {},
   "outputs": [
    {
     "data": {
      "text/plain": [
       "array([2014], dtype=int64)"
      ]
     },
     "execution_count": 10,
     "metadata": {},
     "output_type": "execute_result"
    }
   ],
   "source": [
    "data[\"year\"].unique()# unique values in year"
   ]
  },
  {
   "cell_type": "code",
   "execution_count": 11,
   "id": "7a027633",
   "metadata": {},
   "outputs": [
    {
     "data": {
      "text/plain": [
       "array([5, 6, 7], dtype=int64)"
      ]
     },
     "execution_count": 11,
     "metadata": {},
     "output_type": "execute_result"
    }
   ],
   "source": [
    "data[\"month\"].unique()# unique values in month"
   ]
  },
  {
   "cell_type": "markdown",
   "id": "890d9951",
   "metadata": {},
   "source": [
    "year column has one entities i.e., 2014 and month column has three entities 5,6,7. so , these columns are not useful to fit the model."
   ]
  },
  {
   "cell_type": "code",
   "execution_count": 12,
   "id": "2bbf3023",
   "metadata": {},
   "outputs": [
    {
     "name": "stdout",
     "output_type": "stream",
     "text": [
      "types of bedrooms: [3. 5. 4. 2. 6. 7. 9. 1. 8. 0.]\n",
      "types of bathrooms: [1.5  2.5  2.   2.25 1.   1.75 2.75 3.   3.25 3.5  8.   4.25 4.   3.75\n",
      " 5.   4.5  5.75 1.25 6.5  4.75 0.75 5.25 5.5  6.25 0.   6.75]\n",
      "types of floors: [1.5 2.  1.  2.5 3.  3.5]\n"
     ]
    }
   ],
   "source": [
    "# exploring the unique value in bedroom, bathroom, floors\n",
    "bedroom=data[\"bedrooms\"].unique()\n",
    "print(\"types of bedrooms:\",bedroom)\n",
    "\n",
    "bathrooms=data[\"bathrooms\"].unique()\n",
    "print(\"types of bathrooms:\",bathrooms)\n",
    "\n",
    "floors=data[\"floors\"].unique()\n",
    "print(\"types of floors:\",floors)\n"
   ]
  },
  {
   "cell_type": "markdown",
   "id": "46bd345e",
   "metadata": {},
   "source": [
    "we can see the bedroom, bathroom and floors are in float, it is supposed to be in integer, so let's change these columns datatype into integer"
   ]
  },
  {
   "cell_type": "code",
   "execution_count": 13,
   "id": "3080c146",
   "metadata": {},
   "outputs": [],
   "source": [
    "# changing datatype\n",
    "data[\"price\"]= data[\"price\"].astype(\"int64\") # changing datatype into int64\n",
    "data[\"bedrooms\"]= data[\"bedrooms\"].astype(\"int64\")# changing datatype into int64\n",
    "data[\"bathrooms\"]= data[\"bathrooms\"].astype(\"int64\")# changing datatype into int64\n",
    "data[\"floors\"]= data[\"floors\"].astype(\"int64\")# changing datatype into int64"
   ]
  },
  {
   "cell_type": "code",
   "execution_count": 14,
   "id": "55d2c19b",
   "metadata": {},
   "outputs": [
    {
     "name": "stdout",
     "output_type": "stream",
     "text": [
      "<class 'pandas.core.frame.DataFrame'>\n",
      "RangeIndex: 4600 entries, 0 to 4599\n",
      "Data columns (total 20 columns):\n",
      " #   Column         Non-Null Count  Dtype \n",
      "---  ------         --------------  ----- \n",
      " 0   price          4600 non-null   int64 \n",
      " 1   bedrooms       4600 non-null   int64 \n",
      " 2   bathrooms      4600 non-null   int64 \n",
      " 3   sqft_living    4600 non-null   int64 \n",
      " 4   sqft_lot       4600 non-null   int64 \n",
      " 5   floors         4600 non-null   int64 \n",
      " 6   waterfront     4600 non-null   int64 \n",
      " 7   view           4600 non-null   int64 \n",
      " 8   condition      4600 non-null   int64 \n",
      " 9   sqft_above     4600 non-null   int64 \n",
      " 10  sqft_basement  4600 non-null   int64 \n",
      " 11  yr_built       4600 non-null   int64 \n",
      " 12  yr_renovated   4600 non-null   int64 \n",
      " 13  street         4600 non-null   object\n",
      " 14  city           4600 non-null   object\n",
      " 15  statezip       4600 non-null   object\n",
      " 16  country        4600 non-null   object\n",
      " 17  day            4600 non-null   int64 \n",
      " 18  month          4600 non-null   int64 \n",
      " 19  year           4600 non-null   int64 \n",
      "dtypes: int64(16), object(4)\n",
      "memory usage: 718.9+ KB\n"
     ]
    }
   ],
   "source": [
    "# now check the information of columns\n",
    "data.info()"
   ]
  },
  {
   "cell_type": "code",
   "execution_count": 15,
   "id": "82ace6b6",
   "metadata": {},
   "outputs": [
    {
     "data": {
      "text/plain": [
       "count    4.600000e+03\n",
       "mean     5.519630e+05\n",
       "std      5.638347e+05\n",
       "min      0.000000e+00\n",
       "25%      3.228750e+05\n",
       "50%      4.609430e+05\n",
       "75%      6.549625e+05\n",
       "max      2.659000e+07\n",
       "Name: price, dtype: float64"
      ]
     },
     "execution_count": 15,
     "metadata": {},
     "output_type": "execute_result"
    }
   ],
   "source": [
    "# exploaring price feature i.e., Target variables\n",
    "data[\"price\"].describe()"
   ]
  },
  {
   "cell_type": "markdown",
   "id": "8b62b673",
   "metadata": {},
   "source": [
    "we can see the maximum price range is 26590000 and minimum price range is 0 with mean of 551962, so this is obvious having duplicate values, lets remove the outliers."
   ]
  },
  {
   "cell_type": "markdown",
   "id": "75a77fe2",
   "metadata": {},
   "source": [
    "# Removing outliers"
   ]
  },
  {
   "cell_type": "code",
   "execution_count": 16,
   "id": "91fee32d",
   "metadata": {},
   "outputs": [
    {
     "name": "stdout",
     "output_type": "stream",
     "text": [
      "Outliers in the price are sucessfully removed\n",
      "\n"
     ]
    }
   ],
   "source": [
    "# removing outliers using inter quartile range\n",
    "# this mmethods can remove the records are located far away from mean values.\n",
    "def remove_duplicate(data, x):\n",
    "    q25 = np.percentile(data[x], 25) # assigning below 25% of value\n",
    "    q75 = np.percentile(data[x], 75)  # assigning above 75% of value\n",
    "    iqr = q75 - q25\n",
    "    cut_off = iqr * 1.5\n",
    "    lower, upper = 1, (q75 + cut_off)\n",
    "    data = data[(data[x] < upper) & (data[x] > lower)]\n",
    "    print(f\"Outliers in the {x} are sucessfully removed\\n\")\n",
    "    return data\n",
    "data = remove_duplicate(data, 'price')\n",
    "# the distribution of records more than 75 percent and less than 25 percent are removed"
   ]
  },
  {
   "cell_type": "code",
   "execution_count": 17,
   "id": "0d464085",
   "metadata": {},
   "outputs": [
    {
     "data": {
      "text/plain": [
       "<AxesSubplot:xlabel='price', ylabel='Count'>"
      ]
     },
     "execution_count": 17,
     "metadata": {},
     "output_type": "execute_result"
    },
    {
     "data": {
      "image/png": "[encoded data removed]",
      "text/plain": [
       "<Figure size 1152x1008 with 1 Axes>"
      ]
     },
     "metadata": {},
     "output_type": "display_data"
    }
   ],
   "source": [
    "# visualizing price in  histogram to check wheather our price value are normal distribution or not.\n",
    "from scipy import stats #\n",
    "from matplotlib import style # giving more style to our visualization\n",
    "from matplotlib.gridspec import GridSpec\n",
    "sns.set()\n",
    "style.use('Solarize_Light2')\n",
    "pd.options.mode.chained_assignment = None \n",
    "fig = plt.figure(figsize=(16, 14))\n",
    "grid = GridSpec(ncols=1, nrows=2, figure=fig)\n",
    "\n",
    "# Histogram\n",
    "ax1 = fig.add_subplot(grid[0, :])\n",
    "sns.histplot(data['price'], ax=ax1, kde=True)"
   ]
  },
  {
   "cell_type": "code",
   "execution_count": 18,
   "id": "73bdd629",
   "metadata": {},
   "outputs": [
    {
     "data": {
      "text/plain": [
       "3    1981\n",
       "4    1394\n",
       "2     557\n",
       "5     282\n",
       "6      47\n",
       "1      37\n",
       "7      10\n",
       "0       1\n",
       "8       1\n",
       "9       1\n",
       "Name: bedrooms, dtype: int64"
      ]
     },
     "execution_count": 18,
     "metadata": {},
     "output_type": "execute_result"
    }
   ],
   "source": [
    "# value count in bedroom columns\n",
    "data['bedrooms'].value_counts()\n"
   ]
  },
  {
   "cell_type": "code",
   "execution_count": 19,
   "id": "b07fbf94",
   "metadata": {},
   "outputs": [
    {
     "data": {
      "text/plain": [
       "<AxesSubplot:xlabel='bedrooms', ylabel='count'>"
      ]
     },
     "execution_count": 19,
     "metadata": {},
     "output_type": "execute_result"
    },
    {
     "data": {
      "image/png": "[encoded data removed]",
      "text/plain": [
       "<Figure size 864x504 with 1 Axes>"
      ]
     },
     "metadata": {},
     "output_type": "display_data"
    }
   ],
   "source": [
    "# visualizing bedroom columns\n",
    "fig = plt.figure(figsize=(12, 7))\n",
    "sns.countplot(data.bedrooms)"
   ]
  },
  {
   "cell_type": "code",
   "execution_count": 20,
   "id": "4f428de5",
   "metadata": {},
   "outputs": [
    {
     "data": {
      "text/plain": [
       "2    2217\n",
       "1    1641\n",
       "3     390\n",
       "4      39\n",
       "0      18\n",
       "5       6\n",
       "Name: bathrooms, dtype: int64"
      ]
     },
     "execution_count": 20,
     "metadata": {},
     "output_type": "execute_result"
    }
   ],
   "source": [
    "# value count in bathroom columns\n",
    "data['bathrooms'].value_counts()"
   ]
  },
  {
   "cell_type": "code",
   "execution_count": 21,
   "id": "cf7b50e8",
   "metadata": {},
   "outputs": [
    {
     "data": {
      "text/plain": [
       "<AxesSubplot:xlabel='bathrooms', ylabel='count'>"
      ]
     },
     "execution_count": 21,
     "metadata": {},
     "output_type": "execute_result"
    },
    {
     "data": {
      "image/png": "[encoded data removed]",
      "text/plain": [
       "<Figure size 864x504 with 1 Axes>"
      ]
     },
     "metadata": {},
     "output_type": "display_data"
    }
   ],
   "source": [
    "# visualizing bathroom columns\n",
    "fig = plt.figure(figsize=(12, 7))\n",
    "sns.countplot(data.bathrooms)"
   ]
  },
  {
   "cell_type": "code",
   "execution_count": 22,
   "id": "e8236009",
   "metadata": {},
   "outputs": [],
   "source": [
    "# creat new dataframe for removing duplicate value in bathrooms, in the dataframe bathroom less than 1 are removed\n",
    "df = data[(data.bathrooms>= 1)]\n"
   ]
  },
  {
   "cell_type": "code",
   "execution_count": 23,
   "id": "ffa2f38f",
   "metadata": {},
   "outputs": [
    {
     "data": {
      "text/plain": [
       "2    2217\n",
       "1    1641\n",
       "3     390\n",
       "4      39\n",
       "5       6\n",
       "Name: bathrooms, dtype: int64"
      ]
     },
     "execution_count": 23,
     "metadata": {},
     "output_type": "execute_result"
    }
   ],
   "source": [
    "# value count in bathroom columns\n",
    "df['bathrooms'].value_counts()"
   ]
  },
  {
   "cell_type": "markdown",
   "id": "70e04d73",
   "metadata": {},
   "source": [
    "we can see there is no bathroom less than 1 i.e., zero bathroom"
   ]
  },
  {
   "cell_type": "code",
   "execution_count": 24,
   "id": "8a1d7b76",
   "metadata": {},
   "outputs": [
    {
     "data": {
      "text/plain": [
       "<seaborn.axisgrid.FacetGrid at 0x29b1fdab100>"
      ]
     },
     "execution_count": 24,
     "metadata": {},
     "output_type": "execute_result"
    },
    {
     "data": {
      "image/png": "[encoded data removed]",
      "text/plain": [
       "<Figure size 1296x432 with 1 Axes>"
      ]
     },
     "metadata": {},
     "output_type": "display_data"
    }
   ],
   "source": [
    "# lets check the relationship between bathrooms and price\n",
    "sns.catplot(x='bedrooms', y='price', data=df, height=6, aspect=3)"
   ]
  },
  {
   "cell_type": "markdown",
   "id": "fc1644c0",
   "metadata": {},
   "source": [
    "we can see the bedrooms 3,4,5 have a higher price than other"
   ]
  },
  {
   "cell_type": "code",
   "execution_count": 25,
   "id": "d7f9ae08",
   "metadata": {},
   "outputs": [
    {
     "data": {
      "text/plain": [
       "<AxesSubplot:xlabel='floors', ylabel='count'>"
      ]
     },
     "execution_count": 25,
     "metadata": {},
     "output_type": "execute_result"
    },
    {
     "data": {
      "image/png": "[encoded data removed]",
      "text/plain": [
       "<Figure size 864x504 with 1 Axes>"
      ]
     },
     "metadata": {},
     "output_type": "display_data"
    }
   ],
   "source": [
    "# visualizing floors columns\n",
    "fig = plt.figure(figsize=(12, 7))\n",
    "sns.countplot(df.floors)"
   ]
  },
  {
   "cell_type": "code",
   "execution_count": 26,
   "id": "a083a424",
   "metadata": {},
   "outputs": [
    {
     "name": "stdout",
     "output_type": "stream",
     "text": [
      "0    4278\n",
      "1      15\n",
      "Name: waterfront, dtype: int64\n"
     ]
    }
   ],
   "source": [
    "# value count in waterfront columns\n",
    "print(df.waterfront.value_counts())\n"
   ]
  },
  {
   "cell_type": "code",
   "execution_count": 27,
   "id": "de716f91",
   "metadata": {},
   "outputs": [
    {
     "data": {
      "text/plain": [
       "<AxesSubplot:xlabel='view', ylabel='count'>"
      ]
     },
     "execution_count": 27,
     "metadata": {},
     "output_type": "execute_result"
    },
    {
     "data": {
      "image/png": "[encoded data removed]",
      "text/plain": [
       "<Figure size 864x504 with 1 Axes>"
      ]
     },
     "metadata": {},
     "output_type": "display_data"
    }
   ],
   "source": [
    "\n",
    "# visualizing views columns\n",
    "fig = plt.figure(figsize=(12, 7))\n",
    "sns.countplot(df.view)"
   ]
  },
  {
   "cell_type": "code",
   "execution_count": 28,
   "id": "9de4a2bb",
   "metadata": {},
   "outputs": [
    {
     "data": {
      "text/plain": [
       "<AxesSubplot:xlabel='condition', ylabel='count'>"
      ]
     },
     "execution_count": 28,
     "metadata": {},
     "output_type": "execute_result"
    },
    {
     "data": {
      "image/png": "[encoded data removed]",
      "text/plain": [
       "<Figure size 864x504 with 1 Axes>"
      ]
     },
     "metadata": {},
     "output_type": "display_data"
    }
   ],
   "source": [
    "# visualizing views columns\n",
    "fig = plt.figure(figsize=(12, 7))\n",
    "sns.countplot(df.condition)"
   ]
  },
  {
   "cell_type": "code",
   "execution_count": 29,
   "id": "cccb57dd",
   "metadata": {},
   "outputs": [
    {
     "data": {
      "text/plain": [
       "<AxesSubplot:xlabel='condition', ylabel='price'>"
      ]
     },
     "execution_count": 29,
     "metadata": {},
     "output_type": "execute_result"
    },
    {
     "data": {
      "image/png": "[encoded data removed]",
      "text/plain": [
       "<Figure size 864x504 with 1 Axes>"
      ]
     },
     "metadata": {},
     "output_type": "display_data"
    }
   ],
   "source": [
    "fig = plt.figure(figsize=(12, 7))\n",
    "sns.boxplot(x='condition', y='price', data=data)"
   ]
  },
  {
   "cell_type": "code",
   "execution_count": 30,
   "id": "a2d1be33",
   "metadata": {},
   "outputs": [
    {
     "data": {
      "text/plain": [
       "array([1955, 1966, 1963, 1976, 1938, 1989, 1985, 1945, 1948, 1980, 1965,\n",
       "       1956, 1997, 1987, 1983, 1923, 1954, 2005, 1991, 1959, 1920, 1979,\n",
       "       1951, 1967, 2004, 2014, 1995, 1944, 1992, 1957, 1978, 1974, 1950,\n",
       "       1990, 1949, 1968, 1977, 1996, 2001, 2000, 1929, 2006, 2008, 2009,\n",
       "       2012, 2013, 2007, 1986, 1973, 1988, 1900, 1928, 1982, 1960, 2003,\n",
       "       1998, 1942, 1908, 1958, 1939, 1909, 1975, 1961, 1971, 1924, 1902,\n",
       "       1962, 1953, 1994, 1930, 1984, 2010, 1912, 1947, 1916, 1940, 1970,\n",
       "       1952, 1999, 1964, 1926, 1905, 1903, 1943, 1993, 1946, 1904, 1981,\n",
       "       1906, 1921, 1922, 2011, 2002, 1917, 1913, 1910, 1969, 1925, 1918,\n",
       "       1972, 1941, 1919, 1936, 1911, 1927, 1937, 1932, 1931, 1901, 1907,\n",
       "       1915, 1935, 1933, 1914, 1934], dtype=int64)"
      ]
     },
     "execution_count": 30,
     "metadata": {},
     "output_type": "execute_result"
    }
   ],
   "source": [
    "# exploring unique value in year build\n",
    "df[\"yr_built\"].unique()"
   ]
  },
  {
   "cell_type": "code",
   "execution_count": 31,
   "id": "f5932a43",
   "metadata": {},
   "outputs": [
    {
     "data": {
      "text/plain": [
       "1900"
      ]
     },
     "execution_count": 31,
     "metadata": {},
     "output_type": "execute_result"
    }
   ],
   "source": [
    "#minimum build year\n",
    "df[\"yr_built\"].min()"
   ]
  },
  {
   "cell_type": "code",
   "execution_count": 32,
   "id": "29daac22",
   "metadata": {},
   "outputs": [
    {
     "data": {
      "text/plain": [
       "2014"
      ]
     },
     "execution_count": 32,
     "metadata": {},
     "output_type": "execute_result"
    }
   ],
   "source": [
    "#maximum build year\n",
    "df[\"yr_built\"].max()"
   ]
  },
  {
   "cell_type": "code",
   "execution_count": 33,
   "id": "99cc779f",
   "metadata": {},
   "outputs": [
    {
     "data": {
      "text/plain": [
       "array([2005,    0, 1992, 1994, 2010, 2009, 2000, 1979, 1989, 2014, 1999,\n",
       "       2003, 1983, 1997, 1912, 1923, 1954, 2011, 2001, 2013, 2006, 1972,\n",
       "       1985, 1998, 2004, 1958, 2008, 1970, 1982, 1988, 1986, 1996, 2002,\n",
       "       1971, 1990, 1956, 1984, 2012, 1993, 1969, 2007, 1981, 1974, 1963,\n",
       "       1968, 1934, 1953, 1966, 1955, 1987, 1945, 1960, 1978, 1980, 1948,\n",
       "       1995, 1913, 1977], dtype=int64)"
      ]
     },
     "execution_count": 33,
     "metadata": {},
     "output_type": "execute_result"
    }
   ],
   "source": [
    "# exploaring year renovated\n",
    "df[\"yr_renovated\"].unique()"
   ]
  },
  {
   "cell_type": "markdown",
   "id": "a0c3c60b",
   "metadata": {},
   "source": [
    "zero in yr_renovated means that house was not renovated and non zero value denotes the year of renovated, here, i am coverting those value into 0 and 1, 0 is not renovated and 1 is renovated"
   ]
  },
  {
   "cell_type": "code",
   "execution_count": 34,
   "id": "5986837e",
   "metadata": {},
   "outputs": [],
   "source": [
    "# lambda function for converting yr renovated into two categories\n",
    "df.yr_renovated = df.yr_renovated.apply(lambda x: 0 if x==0 else 1) # if it is zero,it return 0 elese return 1\n"
   ]
  },
  {
   "cell_type": "code",
   "execution_count": 35,
   "id": "914012b8",
   "metadata": {},
   "outputs": [
    {
     "data": {
      "text/html": [
       "<div>\n",
       "<style scoped>\n",
       "    .dataframe tbody tr th:only-of-type {\n",
       "        vertical-align: middle;\n",
       "    }\n",
       "\n",
       "    .dataframe tbody tr th {\n",
       "        vertical-align: top;\n",
       "    }\n",
       "\n",
       "    .dataframe thead th {\n",
       "        text-align: right;\n",
       "    }\n",
       "</style>\n",
       "<table border=\"1\" class=\"dataframe\">\n",
       "  <thead>\n",
       "    <tr style=\"text-align: right;\">\n",
       "      <th></th>\n",
       "      <th>price</th>\n",
       "      <th>bedrooms</th>\n",
       "      <th>bathrooms</th>\n",
       "      <th>sqft_living</th>\n",
       "      <th>sqft_lot</th>\n",
       "      <th>floors</th>\n",
       "      <th>waterfront</th>\n",
       "      <th>view</th>\n",
       "      <th>condition</th>\n",
       "      <th>sqft_above</th>\n",
       "      <th>sqft_basement</th>\n",
       "      <th>yr_built</th>\n",
       "      <th>yr_renovated</th>\n",
       "      <th>street</th>\n",
       "      <th>city</th>\n",
       "      <th>statezip</th>\n",
       "      <th>country</th>\n",
       "      <th>day</th>\n",
       "      <th>month</th>\n",
       "      <th>year</th>\n",
       "    </tr>\n",
       "  </thead>\n",
       "  <tbody>\n",
       "    <tr>\n",
       "      <th>0</th>\n",
       "      <td>313000</td>\n",
       "      <td>3</td>\n",
       "      <td>1</td>\n",
       "      <td>1340</td>\n",
       "      <td>7912</td>\n",
       "      <td>1</td>\n",
       "      <td>0</td>\n",
       "      <td>0</td>\n",
       "      <td>3</td>\n",
       "      <td>1340</td>\n",
       "      <td>0</td>\n",
       "      <td>1955</td>\n",
       "      <td>1</td>\n",
       "      <td>18810 Densmore Ave N</td>\n",
       "      <td>Shoreline</td>\n",
       "      <td>WA 98133</td>\n",
       "      <td>USA</td>\n",
       "      <td>2</td>\n",
       "      <td>5</td>\n",
       "      <td>2014</td>\n",
       "    </tr>\n",
       "    <tr>\n",
       "      <th>2</th>\n",
       "      <td>342000</td>\n",
       "      <td>3</td>\n",
       "      <td>2</td>\n",
       "      <td>1930</td>\n",
       "      <td>11947</td>\n",
       "      <td>1</td>\n",
       "      <td>0</td>\n",
       "      <td>0</td>\n",
       "      <td>4</td>\n",
       "      <td>1930</td>\n",
       "      <td>0</td>\n",
       "      <td>1966</td>\n",
       "      <td>0</td>\n",
       "      <td>26206-26214 143rd Ave SE</td>\n",
       "      <td>Kent</td>\n",
       "      <td>WA 98042</td>\n",
       "      <td>USA</td>\n",
       "      <td>2</td>\n",
       "      <td>5</td>\n",
       "      <td>2014</td>\n",
       "    </tr>\n",
       "    <tr>\n",
       "      <th>3</th>\n",
       "      <td>420000</td>\n",
       "      <td>3</td>\n",
       "      <td>2</td>\n",
       "      <td>2000</td>\n",
       "      <td>8030</td>\n",
       "      <td>1</td>\n",
       "      <td>0</td>\n",
       "      <td>0</td>\n",
       "      <td>4</td>\n",
       "      <td>1000</td>\n",
       "      <td>1000</td>\n",
       "      <td>1963</td>\n",
       "      <td>0</td>\n",
       "      <td>857 170th Pl NE</td>\n",
       "      <td>Bellevue</td>\n",
       "      <td>WA 98008</td>\n",
       "      <td>USA</td>\n",
       "      <td>2</td>\n",
       "      <td>5</td>\n",
       "      <td>2014</td>\n",
       "    </tr>\n",
       "    <tr>\n",
       "      <th>4</th>\n",
       "      <td>550000</td>\n",
       "      <td>4</td>\n",
       "      <td>2</td>\n",
       "      <td>1940</td>\n",
       "      <td>10500</td>\n",
       "      <td>1</td>\n",
       "      <td>0</td>\n",
       "      <td>0</td>\n",
       "      <td>4</td>\n",
       "      <td>1140</td>\n",
       "      <td>800</td>\n",
       "      <td>1976</td>\n",
       "      <td>1</td>\n",
       "      <td>9105 170th Ave NE</td>\n",
       "      <td>Redmond</td>\n",
       "      <td>WA 98052</td>\n",
       "      <td>USA</td>\n",
       "      <td>2</td>\n",
       "      <td>5</td>\n",
       "      <td>2014</td>\n",
       "    </tr>\n",
       "    <tr>\n",
       "      <th>5</th>\n",
       "      <td>490000</td>\n",
       "      <td>2</td>\n",
       "      <td>1</td>\n",
       "      <td>880</td>\n",
       "      <td>6380</td>\n",
       "      <td>1</td>\n",
       "      <td>0</td>\n",
       "      <td>0</td>\n",
       "      <td>3</td>\n",
       "      <td>880</td>\n",
       "      <td>0</td>\n",
       "      <td>1938</td>\n",
       "      <td>1</td>\n",
       "      <td>522 NE 88th St</td>\n",
       "      <td>Seattle</td>\n",
       "      <td>WA 98115</td>\n",
       "      <td>USA</td>\n",
       "      <td>2</td>\n",
       "      <td>5</td>\n",
       "      <td>2014</td>\n",
       "    </tr>\n",
       "  </tbody>\n",
       "</table>\n",
       "</div>"
      ],
      "text/plain": [
       "    price  bedrooms  bathrooms  sqft_living  sqft_lot  floors  waterfront  \\\n",
       "0  313000         3          1         1340      7912       1           0   \n",
       "2  342000         3          2         1930     11947       1           0   \n",
       "3  420000         3          2         2000      8030       1           0   \n",
       "4  550000         4          2         1940     10500       1           0   \n",
       "5  490000         2          1          880      6380       1           0   \n",
       "\n",
       "   view  condition  sqft_above  sqft_basement  yr_built  yr_renovated  \\\n",
       "0     0          3        1340              0      1955             1   \n",
       "2     0          4        1930              0      1966             0   \n",
       "3     0          4        1000           1000      1963             0   \n",
       "4     0          4        1140            800      1976             1   \n",
       "5     0          3         880              0      1938             1   \n",
       "\n",
       "                     street       city  statezip country  day  month  year  \n",
       "0      18810 Densmore Ave N  Shoreline  WA 98133     USA    2      5  2014  \n",
       "2  26206-26214 143rd Ave SE       Kent  WA 98042     USA    2      5  2014  \n",
       "3           857 170th Pl NE   Bellevue  WA 98008     USA    2      5  2014  \n",
       "4         9105 170th Ave NE    Redmond  WA 98052     USA    2      5  2014  \n",
       "5            522 NE 88th St    Seattle  WA 98115     USA    2      5  2014  "
      ]
     },
     "execution_count": 35,
     "metadata": {},
     "output_type": "execute_result"
    }
   ],
   "source": [
    "df.head()"
   ]
  },
  {
   "cell_type": "code",
   "execution_count": 36,
   "id": "6d287d25",
   "metadata": {},
   "outputs": [
    {
     "data": {
      "text/plain": [
       "Seattle                1453\n",
       "Renton                  291\n",
       "Bellevue                232\n",
       "Redmond                 227\n",
       "Issaquah                183\n",
       "Kent                    182\n",
       "Kirkland                176\n",
       "Auburn                  175\n",
       "Sammamish               166\n",
       "Federal Way             145\n",
       "Shoreline               121\n",
       "Woodinville             111\n",
       "Maple Valley             95\n",
       "Burien                   70\n",
       "Snoqualmie               68\n",
       "Kenmore                  65\n",
       "Des Moines               58\n",
       "North Bend               50\n",
       "Mercer Island            50\n",
       "Duvall                   42\n",
       "Covington                41\n",
       "Lake Forest Park         34\n",
       "Bothell                  33\n",
       "Newcastle                31\n",
       "SeaTac                   28\n",
       "Tukwila                  28\n",
       "Vashon                   27\n",
       "Enumclaw                 26\n",
       "Carnation                19\n",
       "Normandy Park            16\n",
       "Fall City                 9\n",
       "Black Diamond             8\n",
       "Ravensdale                7\n",
       "Pacific                   6\n",
       "Algona                    5\n",
       "Clyde Hill                3\n",
       "Yarrow Point              2\n",
       "Milton                    2\n",
       "Skykomish                 2\n",
       "Preston                   2\n",
       "Medina                    1\n",
       "Beaux Arts Village        1\n",
       "Snoqualmie Pass           1\n",
       "Inglewood-Finn Hill       1\n",
       "Name: city, dtype: int64"
      ]
     },
     "execution_count": 36,
     "metadata": {},
     "output_type": "execute_result"
    }
   ],
   "source": [
    "# finding frequency in city column\n",
    "city = df['city'].value_counts(ascending=False)\n",
    "city"
   ]
  },
  {
   "cell_type": "code",
   "execution_count": 37,
   "id": "41b211be",
   "metadata": {},
   "outputs": [
    {
     "data": {
      "text/plain": [
       "4293"
      ]
     },
     "execution_count": 37,
     "metadata": {},
     "output_type": "execute_result"
    }
   ],
   "source": [
    "city.values.sum()# total values in city"
   ]
  },
  {
   "cell_type": "markdown",
   "id": "a6cef9dc",
   "metadata": {},
   "source": [
    "## Removing outliers with some Logic idea\n",
    " normally square ft per bedroom is 300 (i.e. 2 bhk apartment is minimum 600 sqft. If you have for example 800 sqft apartment with 3 bhk than that records is not reliable. i am removing such outliers by keeping our minimum thresold per bhk to be 300 sqft"
   ]
  },
  {
   "cell_type": "code",
   "execution_count": 38,
   "id": "5fb46615",
   "metadata": {},
   "outputs": [
    {
     "data": {
      "text/html": [
       "<div>\n",
       "<style scoped>\n",
       "    .dataframe tbody tr th:only-of-type {\n",
       "        vertical-align: middle;\n",
       "    }\n",
       "\n",
       "    .dataframe tbody tr th {\n",
       "        vertical-align: top;\n",
       "    }\n",
       "\n",
       "    .dataframe thead th {\n",
       "        text-align: right;\n",
       "    }\n",
       "</style>\n",
       "<table border=\"1\" class=\"dataframe\">\n",
       "  <thead>\n",
       "    <tr style=\"text-align: right;\">\n",
       "      <th></th>\n",
       "      <th>price</th>\n",
       "      <th>bedrooms</th>\n",
       "      <th>bathrooms</th>\n",
       "      <th>sqft_living</th>\n",
       "      <th>sqft_lot</th>\n",
       "      <th>floors</th>\n",
       "      <th>waterfront</th>\n",
       "      <th>view</th>\n",
       "      <th>condition</th>\n",
       "      <th>sqft_above</th>\n",
       "      <th>sqft_basement</th>\n",
       "      <th>yr_built</th>\n",
       "      <th>yr_renovated</th>\n",
       "      <th>street</th>\n",
       "      <th>city</th>\n",
       "      <th>statezip</th>\n",
       "      <th>country</th>\n",
       "      <th>day</th>\n",
       "      <th>month</th>\n",
       "      <th>year</th>\n",
       "    </tr>\n",
       "  </thead>\n",
       "  <tbody>\n",
       "    <tr>\n",
       "      <th>598</th>\n",
       "      <td>450000</td>\n",
       "      <td>3</td>\n",
       "      <td>2</td>\n",
       "      <td>1250</td>\n",
       "      <td>892</td>\n",
       "      <td>2</td>\n",
       "      <td>0</td>\n",
       "      <td>0</td>\n",
       "      <td>3</td>\n",
       "      <td>1040</td>\n",
       "      <td>210</td>\n",
       "      <td>2010</td>\n",
       "      <td>0</td>\n",
       "      <td>2301 California Ave SW</td>\n",
       "      <td>Seattle</td>\n",
       "      <td>WA 98116</td>\n",
       "      <td>USA</td>\n",
       "      <td>13</td>\n",
       "      <td>5</td>\n",
       "      <td>2014</td>\n",
       "    </tr>\n",
       "    <tr>\n",
       "      <th>938</th>\n",
       "      <td>479000</td>\n",
       "      <td>3</td>\n",
       "      <td>2</td>\n",
       "      <td>1260</td>\n",
       "      <td>889</td>\n",
       "      <td>3</td>\n",
       "      <td>0</td>\n",
       "      <td>0</td>\n",
       "      <td>3</td>\n",
       "      <td>1260</td>\n",
       "      <td>0</td>\n",
       "      <td>2008</td>\n",
       "      <td>0</td>\n",
       "      <td>915 6th Ave N</td>\n",
       "      <td>Seattle</td>\n",
       "      <td>WA 98109</td>\n",
       "      <td>USA</td>\n",
       "      <td>20</td>\n",
       "      <td>5</td>\n",
       "      <td>2014</td>\n",
       "    </tr>\n",
       "    <tr>\n",
       "      <th>1203</th>\n",
       "      <td>320000</td>\n",
       "      <td>3</td>\n",
       "      <td>2</td>\n",
       "      <td>998</td>\n",
       "      <td>844</td>\n",
       "      <td>2</td>\n",
       "      <td>0</td>\n",
       "      <td>0</td>\n",
       "      <td>3</td>\n",
       "      <td>798</td>\n",
       "      <td>200</td>\n",
       "      <td>2007</td>\n",
       "      <td>0</td>\n",
       "      <td>820 NW 95th St</td>\n",
       "      <td>Seattle</td>\n",
       "      <td>WA 98117</td>\n",
       "      <td>USA</td>\n",
       "      <td>22</td>\n",
       "      <td>5</td>\n",
       "      <td>2014</td>\n",
       "    </tr>\n",
       "    <tr>\n",
       "      <th>1210</th>\n",
       "      <td>359000</td>\n",
       "      <td>3</td>\n",
       "      <td>1</td>\n",
       "      <td>1360</td>\n",
       "      <td>885</td>\n",
       "      <td>3</td>\n",
       "      <td>0</td>\n",
       "      <td>0</td>\n",
       "      <td>3</td>\n",
       "      <td>1360</td>\n",
       "      <td>0</td>\n",
       "      <td>2008</td>\n",
       "      <td>0</td>\n",
       "      <td>709 N 94th St</td>\n",
       "      <td>Seattle</td>\n",
       "      <td>WA 98103</td>\n",
       "      <td>USA</td>\n",
       "      <td>22</td>\n",
       "      <td>5</td>\n",
       "      <td>2014</td>\n",
       "    </tr>\n",
       "    <tr>\n",
       "      <th>1913</th>\n",
       "      <td>742000</td>\n",
       "      <td>3</td>\n",
       "      <td>3</td>\n",
       "      <td>1540</td>\n",
       "      <td>704</td>\n",
       "      <td>3</td>\n",
       "      <td>0</td>\n",
       "      <td>0</td>\n",
       "      <td>3</td>\n",
       "      <td>1540</td>\n",
       "      <td>0</td>\n",
       "      <td>2011</td>\n",
       "      <td>0</td>\n",
       "      <td>1820 E Howell St</td>\n",
       "      <td>Seattle</td>\n",
       "      <td>WA 98122</td>\n",
       "      <td>USA</td>\n",
       "      <td>4</td>\n",
       "      <td>6</td>\n",
       "      <td>2014</td>\n",
       "    </tr>\n",
       "  </tbody>\n",
       "</table>\n",
       "</div>"
      ],
      "text/plain": [
       "       price  bedrooms  bathrooms  sqft_living  sqft_lot  floors  waterfront  \\\n",
       "598   450000         3          2         1250       892       2           0   \n",
       "938   479000         3          2         1260       889       3           0   \n",
       "1203  320000         3          2          998       844       2           0   \n",
       "1210  359000         3          1         1360       885       3           0   \n",
       "1913  742000         3          3         1540       704       3           0   \n",
       "\n",
       "      view  condition  sqft_above  sqft_basement  yr_built  yr_renovated  \\\n",
       "598      0          3        1040            210      2010             0   \n",
       "938      0          3        1260              0      2008             0   \n",
       "1203     0          3         798            200      2007             0   \n",
       "1210     0          3        1360              0      2008             0   \n",
       "1913     0          3        1540              0      2011             0   \n",
       "\n",
       "                      street     city  statezip country  day  month  year  \n",
       "598   2301 California Ave SW  Seattle  WA 98116     USA   13      5  2014  \n",
       "938            915 6th Ave N  Seattle  WA 98109     USA   20      5  2014  \n",
       "1203          820 NW 95th St  Seattle  WA 98117     USA   22      5  2014  \n",
       "1210           709 N 94th St  Seattle  WA 98103     USA   22      5  2014  \n",
       "1913        1820 E Howell St  Seattle  WA 98122     USA    4      6  2014  "
      ]
     },
     "execution_count": 38,
     "metadata": {},
     "output_type": "execute_result"
    }
   ],
   "source": [
    "df[df.sqft_lot/df.bedrooms<300].head() # getting values are less than 300"
   ]
  },
  {
   "cell_type": "code",
   "execution_count": 39,
   "id": "727d778c",
   "metadata": {},
   "outputs": [
    {
     "data": {
      "text/plain": [
       "(4293, 20)"
      ]
     },
     "execution_count": 39,
     "metadata": {},
     "output_type": "execute_result"
    }
   ],
   "source": [
    "df.shape"
   ]
  },
  {
   "cell_type": "code",
   "execution_count": 40,
   "id": "c6e22443",
   "metadata": {},
   "outputs": [
    {
     "data": {
      "text/plain": [
       "(4284, 20)"
      ]
     },
     "execution_count": 40,
     "metadata": {},
     "output_type": "execute_result"
    }
   ],
   "source": [
    "df1 = df[~(df.sqft_lot/df.bedrooms<300)]# assigning the value less than 300\n",
    "df1.shape"
   ]
  },
  {
   "cell_type": "code",
   "execution_count": 41,
   "id": "49fb6471",
   "metadata": {},
   "outputs": [
    {
     "data": {
      "text/html": [
       "<div>\n",
       "<style scoped>\n",
       "    .dataframe tbody tr th:only-of-type {\n",
       "        vertical-align: middle;\n",
       "    }\n",
       "\n",
       "    .dataframe tbody tr th {\n",
       "        vertical-align: top;\n",
       "    }\n",
       "\n",
       "    .dataframe thead th {\n",
       "        text-align: right;\n",
       "    }\n",
       "</style>\n",
       "<table border=\"1\" class=\"dataframe\">\n",
       "  <thead>\n",
       "    <tr style=\"text-align: right;\">\n",
       "      <th></th>\n",
       "      <th>price</th>\n",
       "      <th>bedrooms</th>\n",
       "      <th>bathrooms</th>\n",
       "      <th>sqft_living</th>\n",
       "      <th>sqft_lot</th>\n",
       "      <th>floors</th>\n",
       "      <th>waterfront</th>\n",
       "      <th>view</th>\n",
       "      <th>condition</th>\n",
       "      <th>sqft_above</th>\n",
       "      <th>sqft_basement</th>\n",
       "      <th>yr_built</th>\n",
       "      <th>yr_renovated</th>\n",
       "      <th>street</th>\n",
       "      <th>city</th>\n",
       "      <th>statezip</th>\n",
       "      <th>country</th>\n",
       "      <th>day</th>\n",
       "      <th>month</th>\n",
       "      <th>year</th>\n",
       "    </tr>\n",
       "  </thead>\n",
       "  <tbody>\n",
       "    <tr>\n",
       "      <th>0</th>\n",
       "      <td>313000</td>\n",
       "      <td>3</td>\n",
       "      <td>1</td>\n",
       "      <td>1340</td>\n",
       "      <td>7912</td>\n",
       "      <td>1</td>\n",
       "      <td>0</td>\n",
       "      <td>0</td>\n",
       "      <td>3</td>\n",
       "      <td>1340</td>\n",
       "      <td>0</td>\n",
       "      <td>1955</td>\n",
       "      <td>1</td>\n",
       "      <td>18810 Densmore Ave N</td>\n",
       "      <td>Shoreline</td>\n",
       "      <td>WA 98133</td>\n",
       "      <td>USA</td>\n",
       "      <td>2</td>\n",
       "      <td>5</td>\n",
       "      <td>2014</td>\n",
       "    </tr>\n",
       "    <tr>\n",
       "      <th>2</th>\n",
       "      <td>342000</td>\n",
       "      <td>3</td>\n",
       "      <td>2</td>\n",
       "      <td>1930</td>\n",
       "      <td>11947</td>\n",
       "      <td>1</td>\n",
       "      <td>0</td>\n",
       "      <td>0</td>\n",
       "      <td>4</td>\n",
       "      <td>1930</td>\n",
       "      <td>0</td>\n",
       "      <td>1966</td>\n",
       "      <td>0</td>\n",
       "      <td>26206-26214 143rd Ave SE</td>\n",
       "      <td>Kent</td>\n",
       "      <td>WA 98042</td>\n",
       "      <td>USA</td>\n",
       "      <td>2</td>\n",
       "      <td>5</td>\n",
       "      <td>2014</td>\n",
       "    </tr>\n",
       "    <tr>\n",
       "      <th>3</th>\n",
       "      <td>420000</td>\n",
       "      <td>3</td>\n",
       "      <td>2</td>\n",
       "      <td>2000</td>\n",
       "      <td>8030</td>\n",
       "      <td>1</td>\n",
       "      <td>0</td>\n",
       "      <td>0</td>\n",
       "      <td>4</td>\n",
       "      <td>1000</td>\n",
       "      <td>1000</td>\n",
       "      <td>1963</td>\n",
       "      <td>0</td>\n",
       "      <td>857 170th Pl NE</td>\n",
       "      <td>Bellevue</td>\n",
       "      <td>WA 98008</td>\n",
       "      <td>USA</td>\n",
       "      <td>2</td>\n",
       "      <td>5</td>\n",
       "      <td>2014</td>\n",
       "    </tr>\n",
       "    <tr>\n",
       "      <th>4</th>\n",
       "      <td>550000</td>\n",
       "      <td>4</td>\n",
       "      <td>2</td>\n",
       "      <td>1940</td>\n",
       "      <td>10500</td>\n",
       "      <td>1</td>\n",
       "      <td>0</td>\n",
       "      <td>0</td>\n",
       "      <td>4</td>\n",
       "      <td>1140</td>\n",
       "      <td>800</td>\n",
       "      <td>1976</td>\n",
       "      <td>1</td>\n",
       "      <td>9105 170th Ave NE</td>\n",
       "      <td>Redmond</td>\n",
       "      <td>WA 98052</td>\n",
       "      <td>USA</td>\n",
       "      <td>2</td>\n",
       "      <td>5</td>\n",
       "      <td>2014</td>\n",
       "    </tr>\n",
       "    <tr>\n",
       "      <th>5</th>\n",
       "      <td>490000</td>\n",
       "      <td>2</td>\n",
       "      <td>1</td>\n",
       "      <td>880</td>\n",
       "      <td>6380</td>\n",
       "      <td>1</td>\n",
       "      <td>0</td>\n",
       "      <td>0</td>\n",
       "      <td>3</td>\n",
       "      <td>880</td>\n",
       "      <td>0</td>\n",
       "      <td>1938</td>\n",
       "      <td>1</td>\n",
       "      <td>522 NE 88th St</td>\n",
       "      <td>Seattle</td>\n",
       "      <td>WA 98115</td>\n",
       "      <td>USA</td>\n",
       "      <td>2</td>\n",
       "      <td>5</td>\n",
       "      <td>2014</td>\n",
       "    </tr>\n",
       "  </tbody>\n",
       "</table>\n",
       "</div>"
      ],
      "text/plain": [
       "    price  bedrooms  bathrooms  sqft_living  sqft_lot  floors  waterfront  \\\n",
       "0  313000         3          1         1340      7912       1           0   \n",
       "2  342000         3          2         1930     11947       1           0   \n",
       "3  420000         3          2         2000      8030       1           0   \n",
       "4  550000         4          2         1940     10500       1           0   \n",
       "5  490000         2          1          880      6380       1           0   \n",
       "\n",
       "   view  condition  sqft_above  sqft_basement  yr_built  yr_renovated  \\\n",
       "0     0          3        1340              0      1955             1   \n",
       "2     0          4        1930              0      1966             0   \n",
       "3     0          4        1000           1000      1963             0   \n",
       "4     0          4        1140            800      1976             1   \n",
       "5     0          3         880              0      1938             1   \n",
       "\n",
       "                     street       city  statezip country  day  month  year  \n",
       "0      18810 Densmore Ave N  Shoreline  WA 98133     USA    2      5  2014  \n",
       "2  26206-26214 143rd Ave SE       Kent  WA 98042     USA    2      5  2014  \n",
       "3           857 170th Pl NE   Bellevue  WA 98008     USA    2      5  2014  \n",
       "4         9105 170th Ave NE    Redmond  WA 98052     USA    2      5  2014  \n",
       "5            522 NE 88th St    Seattle  WA 98115     USA    2      5  2014  "
      ]
     },
     "execution_count": 41,
     "metadata": {},
     "output_type": "execute_result"
    }
   ],
   "source": [
    "df1.head()"
   ]
  },
  {
   "cell_type": "markdown",
   "id": "a8586348",
   "metadata": {},
   "source": [
    "## dimensionality reduction"
   ]
  },
  {
   "cell_type": "code",
   "execution_count": 42,
   "id": "e5e74ed8",
   "metadata": {},
   "outputs": [],
   "source": [
    "##lets drop some unwanted features because this columns are not creat any impact while building the model\n",
    "## it can reduce some computitational cost and give better accuracy\n",
    "df2 = df1.drop(columns=[\"day\",\"month\",\"year\",\"country\",\"street\",\"statezip\"])"
   ]
  },
  {
   "cell_type": "code",
   "execution_count": 43,
   "id": "f2d84357",
   "metadata": {},
   "outputs": [
    {
     "data": {
      "text/html": [
       "<div>\n",
       "<style scoped>\n",
       "    .dataframe tbody tr th:only-of-type {\n",
       "        vertical-align: middle;\n",
       "    }\n",
       "\n",
       "    .dataframe tbody tr th {\n",
       "        vertical-align: top;\n",
       "    }\n",
       "\n",
       "    .dataframe thead th {\n",
       "        text-align: right;\n",
       "    }\n",
       "</style>\n",
       "<table border=\"1\" class=\"dataframe\">\n",
       "  <thead>\n",
       "    <tr style=\"text-align: right;\">\n",
       "      <th></th>\n",
       "      <th>price</th>\n",
       "      <th>bedrooms</th>\n",
       "      <th>bathrooms</th>\n",
       "      <th>sqft_living</th>\n",
       "      <th>sqft_lot</th>\n",
       "      <th>floors</th>\n",
       "      <th>waterfront</th>\n",
       "      <th>view</th>\n",
       "      <th>condition</th>\n",
       "      <th>sqft_above</th>\n",
       "      <th>sqft_basement</th>\n",
       "      <th>yr_built</th>\n",
       "      <th>yr_renovated</th>\n",
       "      <th>city</th>\n",
       "    </tr>\n",
       "  </thead>\n",
       "  <tbody>\n",
       "    <tr>\n",
       "      <th>0</th>\n",
       "      <td>313000</td>\n",
       "      <td>3</td>\n",
       "      <td>1</td>\n",
       "      <td>1340</td>\n",
       "      <td>7912</td>\n",
       "      <td>1</td>\n",
       "      <td>0</td>\n",
       "      <td>0</td>\n",
       "      <td>3</td>\n",
       "      <td>1340</td>\n",
       "      <td>0</td>\n",
       "      <td>1955</td>\n",
       "      <td>1</td>\n",
       "      <td>Shoreline</td>\n",
       "    </tr>\n",
       "    <tr>\n",
       "      <th>2</th>\n",
       "      <td>342000</td>\n",
       "      <td>3</td>\n",
       "      <td>2</td>\n",
       "      <td>1930</td>\n",
       "      <td>11947</td>\n",
       "      <td>1</td>\n",
       "      <td>0</td>\n",
       "      <td>0</td>\n",
       "      <td>4</td>\n",
       "      <td>1930</td>\n",
       "      <td>0</td>\n",
       "      <td>1966</td>\n",
       "      <td>0</td>\n",
       "      <td>Kent</td>\n",
       "    </tr>\n",
       "    <tr>\n",
       "      <th>3</th>\n",
       "      <td>420000</td>\n",
       "      <td>3</td>\n",
       "      <td>2</td>\n",
       "      <td>2000</td>\n",
       "      <td>8030</td>\n",
       "      <td>1</td>\n",
       "      <td>0</td>\n",
       "      <td>0</td>\n",
       "      <td>4</td>\n",
       "      <td>1000</td>\n",
       "      <td>1000</td>\n",
       "      <td>1963</td>\n",
       "      <td>0</td>\n",
       "      <td>Bellevue</td>\n",
       "    </tr>\n",
       "    <tr>\n",
       "      <th>4</th>\n",
       "      <td>550000</td>\n",
       "      <td>4</td>\n",
       "      <td>2</td>\n",
       "      <td>1940</td>\n",
       "      <td>10500</td>\n",
       "      <td>1</td>\n",
       "      <td>0</td>\n",
       "      <td>0</td>\n",
       "      <td>4</td>\n",
       "      <td>1140</td>\n",
       "      <td>800</td>\n",
       "      <td>1976</td>\n",
       "      <td>1</td>\n",
       "      <td>Redmond</td>\n",
       "    </tr>\n",
       "    <tr>\n",
       "      <th>5</th>\n",
       "      <td>490000</td>\n",
       "      <td>2</td>\n",
       "      <td>1</td>\n",
       "      <td>880</td>\n",
       "      <td>6380</td>\n",
       "      <td>1</td>\n",
       "      <td>0</td>\n",
       "      <td>0</td>\n",
       "      <td>3</td>\n",
       "      <td>880</td>\n",
       "      <td>0</td>\n",
       "      <td>1938</td>\n",
       "      <td>1</td>\n",
       "      <td>Seattle</td>\n",
       "    </tr>\n",
       "  </tbody>\n",
       "</table>\n",
       "</div>"
      ],
      "text/plain": [
       "    price  bedrooms  bathrooms  sqft_living  sqft_lot  floors  waterfront  \\\n",
       "0  313000         3          1         1340      7912       1           0   \n",
       "2  342000         3          2         1930     11947       1           0   \n",
       "3  420000         3          2         2000      8030       1           0   \n",
       "4  550000         4          2         1940     10500       1           0   \n",
       "5  490000         2          1          880      6380       1           0   \n",
       "\n",
       "   view  condition  sqft_above  sqft_basement  yr_built  yr_renovated  \\\n",
       "0     0          3        1340              0      1955             1   \n",
       "2     0          4        1930              0      1966             0   \n",
       "3     0          4        1000           1000      1963             0   \n",
       "4     0          4        1140            800      1976             1   \n",
       "5     0          3         880              0      1938             1   \n",
       "\n",
       "        city  \n",
       "0  Shoreline  \n",
       "2       Kent  \n",
       "3   Bellevue  \n",
       "4    Redmond  \n",
       "5    Seattle  "
      ]
     },
     "execution_count": 43,
     "metadata": {},
     "output_type": "execute_result"
    }
   ],
   "source": [
    "df2.head()"
   ]
  },
  {
   "cell_type": "markdown",
   "id": "3f1a10e9",
   "metadata": {},
   "source": [
    "## Label encoding for city"
   ]
  },
  {
   "cell_type": "code",
   "execution_count": 44,
   "id": "9baa061a",
   "metadata": {},
   "outputs": [
    {
     "name": "stdout",
     "output_type": "stream",
     "text": [
      "0    Shoreline\n",
      "2         Kent\n",
      "3     Bellevue\n",
      "4      Redmond\n",
      "5      Seattle\n",
      "Name: city, dtype: object\n"
     ]
    }
   ],
   "source": [
    "# Import label encoder \n",
    "from sklearn import preprocessing\n",
    "# label_encoder object knows how to understand word labels. \n",
    "label_encoder = preprocessing.LabelEncoder()\n",
    "# Encode labels in column 'Country'. \n",
    "df2['City']= label_encoder.fit_transform(df2['city']) \n",
    "print(df2['city'].head())"
   ]
  },
  {
   "cell_type": "code",
   "execution_count": 45,
   "id": "3291ea5d",
   "metadata": {},
   "outputs": [
    {
     "data": {
      "text/html": [
       "<div>\n",
       "<style scoped>\n",
       "    .dataframe tbody tr th:only-of-type {\n",
       "        vertical-align: middle;\n",
       "    }\n",
       "\n",
       "    .dataframe tbody tr th {\n",
       "        vertical-align: top;\n",
       "    }\n",
       "\n",
       "    .dataframe thead th {\n",
       "        text-align: right;\n",
       "    }\n",
       "</style>\n",
       "<table border=\"1\" class=\"dataframe\">\n",
       "  <thead>\n",
       "    <tr style=\"text-align: right;\">\n",
       "      <th></th>\n",
       "      <th>price</th>\n",
       "      <th>bedrooms</th>\n",
       "      <th>bathrooms</th>\n",
       "      <th>sqft_living</th>\n",
       "      <th>sqft_lot</th>\n",
       "      <th>floors</th>\n",
       "      <th>waterfront</th>\n",
       "      <th>view</th>\n",
       "      <th>condition</th>\n",
       "      <th>sqft_above</th>\n",
       "      <th>sqft_basement</th>\n",
       "      <th>yr_built</th>\n",
       "      <th>yr_renovated</th>\n",
       "      <th>city</th>\n",
       "      <th>City</th>\n",
       "    </tr>\n",
       "  </thead>\n",
       "  <tbody>\n",
       "    <tr>\n",
       "      <th>0</th>\n",
       "      <td>313000</td>\n",
       "      <td>3</td>\n",
       "      <td>1</td>\n",
       "      <td>1340</td>\n",
       "      <td>7912</td>\n",
       "      <td>1</td>\n",
       "      <td>0</td>\n",
       "      <td>0</td>\n",
       "      <td>3</td>\n",
       "      <td>1340</td>\n",
       "      <td>0</td>\n",
       "      <td>1955</td>\n",
       "      <td>1</td>\n",
       "      <td>Shoreline</td>\n",
       "      <td>36</td>\n",
       "    </tr>\n",
       "    <tr>\n",
       "      <th>2</th>\n",
       "      <td>342000</td>\n",
       "      <td>3</td>\n",
       "      <td>2</td>\n",
       "      <td>1930</td>\n",
       "      <td>11947</td>\n",
       "      <td>1</td>\n",
       "      <td>0</td>\n",
       "      <td>0</td>\n",
       "      <td>4</td>\n",
       "      <td>1930</td>\n",
       "      <td>0</td>\n",
       "      <td>1966</td>\n",
       "      <td>0</td>\n",
       "      <td>Kent</td>\n",
       "      <td>18</td>\n",
       "    </tr>\n",
       "    <tr>\n",
       "      <th>3</th>\n",
       "      <td>420000</td>\n",
       "      <td>3</td>\n",
       "      <td>2</td>\n",
       "      <td>2000</td>\n",
       "      <td>8030</td>\n",
       "      <td>1</td>\n",
       "      <td>0</td>\n",
       "      <td>0</td>\n",
       "      <td>4</td>\n",
       "      <td>1000</td>\n",
       "      <td>1000</td>\n",
       "      <td>1963</td>\n",
       "      <td>0</td>\n",
       "      <td>Bellevue</td>\n",
       "      <td>3</td>\n",
       "    </tr>\n",
       "    <tr>\n",
       "      <th>4</th>\n",
       "      <td>550000</td>\n",
       "      <td>4</td>\n",
       "      <td>2</td>\n",
       "      <td>1940</td>\n",
       "      <td>10500</td>\n",
       "      <td>1</td>\n",
       "      <td>0</td>\n",
       "      <td>0</td>\n",
       "      <td>4</td>\n",
       "      <td>1140</td>\n",
       "      <td>800</td>\n",
       "      <td>1976</td>\n",
       "      <td>1</td>\n",
       "      <td>Redmond</td>\n",
       "      <td>31</td>\n",
       "    </tr>\n",
       "    <tr>\n",
       "      <th>5</th>\n",
       "      <td>490000</td>\n",
       "      <td>2</td>\n",
       "      <td>1</td>\n",
       "      <td>880</td>\n",
       "      <td>6380</td>\n",
       "      <td>1</td>\n",
       "      <td>0</td>\n",
       "      <td>0</td>\n",
       "      <td>3</td>\n",
       "      <td>880</td>\n",
       "      <td>0</td>\n",
       "      <td>1938</td>\n",
       "      <td>1</td>\n",
       "      <td>Seattle</td>\n",
       "      <td>35</td>\n",
       "    </tr>\n",
       "  </tbody>\n",
       "</table>\n",
       "</div>"
      ],
      "text/plain": [
       "    price  bedrooms  bathrooms  sqft_living  sqft_lot  floors  waterfront  \\\n",
       "0  313000         3          1         1340      7912       1           0   \n",
       "2  342000         3          2         1930     11947       1           0   \n",
       "3  420000         3          2         2000      8030       1           0   \n",
       "4  550000         4          2         1940     10500       1           0   \n",
       "5  490000         2          1          880      6380       1           0   \n",
       "\n",
       "   view  condition  sqft_above  sqft_basement  yr_built  yr_renovated  \\\n",
       "0     0          3        1340              0      1955             1   \n",
       "2     0          4        1930              0      1966             0   \n",
       "3     0          4        1000           1000      1963             0   \n",
       "4     0          4        1140            800      1976             1   \n",
       "5     0          3         880              0      1938             1   \n",
       "\n",
       "        city  City  \n",
       "0  Shoreline    36  \n",
       "2       Kent    18  \n",
       "3   Bellevue     3  \n",
       "4    Redmond    31  \n",
       "5    Seattle    35  "
      ]
     },
     "execution_count": 45,
     "metadata": {},
     "output_type": "execute_result"
    }
   ],
   "source": [
    "df2.head()"
   ]
  },
  {
   "cell_type": "markdown",
   "id": "f4c735f7",
   "metadata": {},
   "source": [
    "## splitting the data"
   ]
  },
  {
   "cell_type": "code",
   "execution_count": 46,
   "id": "db1c9233",
   "metadata": {},
   "outputs": [
    {
     "data": {
      "text/html": [
       "<div>\n",
       "<style scoped>\n",
       "    .dataframe tbody tr th:only-of-type {\n",
       "        vertical-align: middle;\n",
       "    }\n",
       "\n",
       "    .dataframe tbody tr th {\n",
       "        vertical-align: top;\n",
       "    }\n",
       "\n",
       "    .dataframe thead th {\n",
       "        text-align: right;\n",
       "    }\n",
       "</style>\n",
       "<table border=\"1\" class=\"dataframe\">\n",
       "  <thead>\n",
       "    <tr style=\"text-align: right;\">\n",
       "      <th></th>\n",
       "      <th>bedrooms</th>\n",
       "      <th>bathrooms</th>\n",
       "      <th>sqft_living</th>\n",
       "      <th>sqft_lot</th>\n",
       "      <th>floors</th>\n",
       "      <th>waterfront</th>\n",
       "      <th>view</th>\n",
       "      <th>condition</th>\n",
       "      <th>sqft_above</th>\n",
       "      <th>sqft_basement</th>\n",
       "      <th>yr_built</th>\n",
       "      <th>yr_renovated</th>\n",
       "      <th>City</th>\n",
       "    </tr>\n",
       "  </thead>\n",
       "  <tbody>\n",
       "    <tr>\n",
       "      <th>0</th>\n",
       "      <td>3</td>\n",
       "      <td>1</td>\n",
       "      <td>1340</td>\n",
       "      <td>7912</td>\n",
       "      <td>1</td>\n",
       "      <td>0</td>\n",
       "      <td>0</td>\n",
       "      <td>3</td>\n",
       "      <td>1340</td>\n",
       "      <td>0</td>\n",
       "      <td>1955</td>\n",
       "      <td>1</td>\n",
       "      <td>36</td>\n",
       "    </tr>\n",
       "    <tr>\n",
       "      <th>2</th>\n",
       "      <td>3</td>\n",
       "      <td>2</td>\n",
       "      <td>1930</td>\n",
       "      <td>11947</td>\n",
       "      <td>1</td>\n",
       "      <td>0</td>\n",
       "      <td>0</td>\n",
       "      <td>4</td>\n",
       "      <td>1930</td>\n",
       "      <td>0</td>\n",
       "      <td>1966</td>\n",
       "      <td>0</td>\n",
       "      <td>18</td>\n",
       "    </tr>\n",
       "    <tr>\n",
       "      <th>3</th>\n",
       "      <td>3</td>\n",
       "      <td>2</td>\n",
       "      <td>2000</td>\n",
       "      <td>8030</td>\n",
       "      <td>1</td>\n",
       "      <td>0</td>\n",
       "      <td>0</td>\n",
       "      <td>4</td>\n",
       "      <td>1000</td>\n",
       "      <td>1000</td>\n",
       "      <td>1963</td>\n",
       "      <td>0</td>\n",
       "      <td>3</td>\n",
       "    </tr>\n",
       "  </tbody>\n",
       "</table>\n",
       "</div>"
      ],
      "text/plain": [
       "   bedrooms  bathrooms  sqft_living  sqft_lot  floors  waterfront  view  \\\n",
       "0         3          1         1340      7912       1           0     0   \n",
       "2         3          2         1930     11947       1           0     0   \n",
       "3         3          2         2000      8030       1           0     0   \n",
       "\n",
       "   condition  sqft_above  sqft_basement  yr_built  yr_renovated  City  \n",
       "0          3        1340              0      1955             1    36  \n",
       "2          4        1930              0      1966             0    18  \n",
       "3          4        1000           1000      1963             0     3  "
      ]
     },
     "execution_count": 46,
     "metadata": {},
     "output_type": "execute_result"
    }
   ],
   "source": [
    "# assigning the x and y value for fitting the model\n",
    "X = df2.drop(['price','city'],axis='columns')# assigning for x\n",
    "X.head(3)"
   ]
  },
  {
   "cell_type": "code",
   "execution_count": 47,
   "id": "0bef8067",
   "metadata": {},
   "outputs": [
    {
     "data": {
      "text/plain": [
       "0    313000\n",
       "2    342000\n",
       "3    420000\n",
       "Name: price, dtype: int64"
      ]
     },
     "execution_count": 47,
     "metadata": {},
     "output_type": "execute_result"
    }
   ],
   "source": [
    "y = df2.price# assigning for y\n",
    "y.head(3)"
   ]
  },
  {
   "cell_type": "code",
   "execution_count": 48,
   "id": "c88cece2",
   "metadata": {},
   "outputs": [
    {
     "data": {
      "text/plain": [
       "Index(['bedrooms', 'bathrooms', 'sqft_living', 'sqft_lot', 'floors',\n",
       "       'waterfront', 'view', 'condition', 'sqft_above', 'sqft_basement',\n",
       "       'yr_built', 'yr_renovated', 'City'],\n",
       "      dtype='object')"
      ]
     },
     "execution_count": 48,
     "metadata": {},
     "output_type": "execute_result"
    }
   ],
   "source": [
    "X.columns"
   ]
  },
  {
   "cell_type": "code",
   "execution_count": 49,
   "id": "c8ac936c",
   "metadata": {},
   "outputs": [],
   "source": [
    "# SPLITTING THE DATA FOR TRAIN AND TEST\n",
    "from sklearn.model_selection import train_test_split\n",
    "X_train, X_test, y_train, y_test = train_test_split(X, y, test_size=0.3, random_state=42)"
   ]
  },
  {
   "cell_type": "markdown",
   "id": "43e4e6a7",
   "metadata": {},
   "source": [
    "# Feature selection\n",
    "\n",
    "Feature selection is a crucial stage while fitting the model for getting good accuracy and it reduce computational cost as well."
   ]
  },
  {
   "cell_type": "code",
   "execution_count": 50,
   "id": "d51db545",
   "metadata": {},
   "outputs": [
    {
     "data": {
      "text/plain": [
       "<AxesSubplot:xlabel='sqft_basement', ylabel='Count'>"
      ]
     },
     "execution_count": 50,
     "metadata": {},
     "output_type": "execute_result"
    },
    {
     "data": {
      "image/png": "[encoded data removed]",
      "text/plain": [
       "<Figure size 1296x720 with 4 Axes>"
      ]
     },
     "metadata": {},
     "output_type": "display_data"
    }
   ],
   "source": [
    "# finding better sqare ft value out of four using plot\n",
    "fig, axes = plt.subplots(2, 2, figsize=(18, 10))\n",
    "sns.histplot(ax=axes[0,0],x=\"sqft_living\", data=df)\n",
    "sns.histplot(ax=axes[0, 1],x=\"sqft_lot\", data=df)\n",
    "sns.histplot(ax=axes[1,0],x=\"sqft_above\", data=df)\n",
    "sns.histplot(ax=axes[1, 1],x=\"sqft_basement\", data=df)"
   ]
  },
  {
   "cell_type": "code",
   "execution_count": 51,
   "id": "4f65dbc4",
   "metadata": {},
   "outputs": [
    {
     "data": {
      "text/plain": [
       "<Figure size 864x432 with 0 Axes>"
      ]
     },
     "metadata": {},
     "output_type": "display_data"
    },
    {
     "data": {
      "image/png": "[encoded data removed]",
      "text/plain": [
       "<Figure size 504x504 with 1 Axes>"
      ]
     },
     "metadata": {},
     "output_type": "display_data"
    }
   ],
   "source": [
    "# Shows the distribution of sqft_living vs price\n",
    "plt.figure(figsize = (12, 6))\n",
    "sns.pairplot(df, x_vars = ['sqft_living'], y_vars = ['price'], size = 7, kind = 'scatter')\n",
    "plt.xlabel('Sqft of Living')\n",
    "plt.ylabel('Price')\n",
    "plt.title('Sqft of living vs price')\n",
    "plt.show()"
   ]
  },
  {
   "cell_type": "code",
   "execution_count": 52,
   "id": "4d22a640",
   "metadata": {},
   "outputs": [
    {
     "data": {
      "text/plain": [
       "<AxesSubplot:>"
      ]
     },
     "execution_count": 52,
     "metadata": {},
     "output_type": "execute_result"
    },
    {
     "data": {
      "image/png": "[encoded data removed]",
      "text/plain": [
       "<Figure size 432x288 with 2 Axes>"
      ]
     },
     "metadata": {},
     "output_type": "display_data"
    }
   ],
   "source": [
    "sns.heatmap(df[[\"price\", \"sqft_living\", \"sqft_lot\", \"sqft_above\", \"sqft_basement\"]].corr(), annot=True)"
   ]
  },
  {
   "cell_type": "raw",
   "id": "65ee6249",
   "metadata": {},
   "source": [
    "\n",
    "\n",
    "\n",
    "conclusion: living square ft is better out of four because it is positive corelation between our target value ( with 0.61)\n",
    "and we can see \"sqft_above\" is more corelated with \"sqft_living\".so we can use either one of the features because both are intependent variable.\n",
    "\n",
    "\n",
    "\n",
    "\n"
   ]
  },
  {
   "cell_type": "code",
   "execution_count": 53,
   "id": "a7cb8689",
   "metadata": {},
   "outputs": [
    {
     "data": {
      "text/plain": [
       "array([0.04471732, 0.10700494, 0.21938591, 0.01168576, 0.04067522,\n",
       "       0.        , 0.02352206, 0.01815882, 0.15636016, 0.02675456,\n",
       "       0.04916146, 0.01222545, 0.05057537])"
      ]
     },
     "execution_count": 53,
     "metadata": {},
     "output_type": "execute_result"
    }
   ],
   "source": [
    "# importing mutual information gain feature selection libraries for regression model\n",
    "from sklearn.feature_selection import mutual_info_regression\n",
    "# determine the mutual information\n",
    "mutual_info = mutual_info_regression(X_train, y_train)\n",
    "mutual_info"
   ]
  },
  {
   "cell_type": "code",
   "execution_count": 54,
   "id": "5f82532d",
   "metadata": {},
   "outputs": [
    {
     "data": {
      "text/plain": [
       "sqft_living      0.219386\n",
       "sqft_above       0.156360\n",
       "bathrooms        0.107005\n",
       "City             0.050575\n",
       "yr_built         0.049161\n",
       "bedrooms         0.044717\n",
       "floors           0.040675\n",
       "sqft_basement    0.026755\n",
       "view             0.023522\n",
       "condition        0.018159\n",
       "yr_renovated     0.012225\n",
       "sqft_lot         0.011686\n",
       "waterfront       0.000000\n",
       "dtype: float64"
      ]
     },
     "execution_count": 54,
     "metadata": {},
     "output_type": "execute_result"
    }
   ],
   "source": [
    "mutual_information = pd.Series(mutual_info)\n",
    "mutual_information.index = X_train.columns\n",
    "mutual_information.sort_values(ascending=False)"
   ]
  },
  {
   "cell_type": "code",
   "execution_count": 55,
   "id": "fb2a6c31",
   "metadata": {},
   "outputs": [
    {
     "data": {
      "text/plain": [
       "<AxesSubplot:>"
      ]
     },
     "execution_count": 55,
     "metadata": {},
     "output_type": "execute_result"
    },
    {
     "data": {
      "image/png": "[encoded data removed]",
      "text/plain": [
       "<Figure size 1152x360 with 1 Axes>"
      ]
     },
     "metadata": {},
     "output_type": "display_data"
    }
   ],
   "source": [
    "mutual_information.sort_values(ascending=False).plot.bar(figsize=(16,5))"
   ]
  },
  {
   "cell_type": "code",
   "execution_count": 56,
   "id": "714525a1",
   "metadata": {},
   "outputs": [
    {
     "data": {
      "text/plain": [
       "Index(['bedrooms', 'bathrooms', 'sqft_living', 'floors', 'sqft_above',\n",
       "       'yr_built', 'City'],\n",
       "      dtype='object')"
      ]
     },
     "execution_count": 56,
     "metadata": {},
     "output_type": "execute_result"
    }
   ],
   "source": [
    "from sklearn.feature_selection import SelectKBest\n",
    "#No we Will select the  top 5 important features\n",
    "top_seven = SelectKBest(mutual_info_regression, k=7)\n",
    "top_seven.fit(X_train, y_train)\n",
    "X_train.columns[top_seven.get_support()]"
   ]
  },
  {
   "cell_type": "raw",
   "id": "304526bf",
   "metadata": {},
   "source": [
    "conclusion: i am going to use top 7 columns for fitting our regression model,i.e., 'bedrooms', 'bathrooms', 'sqft_living', 'floors',\n",
    "       'yr_built', 'City'.\n"
   ]
  },
  {
   "cell_type": "code",
   "execution_count": 57,
   "id": "a2484cab",
   "metadata": {},
   "outputs": [
    {
     "data": {
      "text/html": [
       "<div>\n",
       "<style scoped>\n",
       "    .dataframe tbody tr th:only-of-type {\n",
       "        vertical-align: middle;\n",
       "    }\n",
       "\n",
       "    .dataframe tbody tr th {\n",
       "        vertical-align: top;\n",
       "    }\n",
       "\n",
       "    .dataframe thead th {\n",
       "        text-align: right;\n",
       "    }\n",
       "</style>\n",
       "<table border=\"1\" class=\"dataframe\">\n",
       "  <thead>\n",
       "    <tr style=\"text-align: right;\">\n",
       "      <th></th>\n",
       "      <th>bedrooms</th>\n",
       "      <th>bathrooms</th>\n",
       "      <th>sqft_living</th>\n",
       "      <th>floors</th>\n",
       "      <th>yr_built</th>\n",
       "      <th>City</th>\n",
       "    </tr>\n",
       "  </thead>\n",
       "  <tbody>\n",
       "    <tr>\n",
       "      <th>0</th>\n",
       "      <td>3</td>\n",
       "      <td>1</td>\n",
       "      <td>1340</td>\n",
       "      <td>1</td>\n",
       "      <td>1955</td>\n",
       "      <td>36</td>\n",
       "    </tr>\n",
       "    <tr>\n",
       "      <th>2</th>\n",
       "      <td>3</td>\n",
       "      <td>2</td>\n",
       "      <td>1930</td>\n",
       "      <td>1</td>\n",
       "      <td>1966</td>\n",
       "      <td>18</td>\n",
       "    </tr>\n",
       "    <tr>\n",
       "      <th>3</th>\n",
       "      <td>3</td>\n",
       "      <td>2</td>\n",
       "      <td>2000</td>\n",
       "      <td>1</td>\n",
       "      <td>1963</td>\n",
       "      <td>3</td>\n",
       "    </tr>\n",
       "  </tbody>\n",
       "</table>\n",
       "</div>"
      ],
      "text/plain": [
       "   bedrooms  bathrooms  sqft_living  floors  yr_built  City\n",
       "0         3          1         1340       1      1955    36\n",
       "2         3          2         1930       1      1966    18\n",
       "3         3          2         2000       1      1963     3"
      ]
     },
     "execution_count": 57,
     "metadata": {},
     "output_type": "execute_result"
    }
   ],
   "source": [
    "# splitting the selected columns for fitting the model.\n",
    "x= df2[['bedrooms', 'bathrooms', 'sqft_living', 'floors',\n",
    "       'yr_built', 'City']] # assigning impartance features for x \n",
    "x.head(3)"
   ]
  },
  {
   "cell_type": "code",
   "execution_count": 58,
   "id": "1941c82f",
   "metadata": {},
   "outputs": [
    {
     "data": {
      "text/plain": [
       "0    313000\n",
       "2    342000\n",
       "3    420000\n",
       "Name: price, dtype: int64"
      ]
     },
     "execution_count": 58,
     "metadata": {},
     "output_type": "execute_result"
    }
   ],
   "source": [
    "Y = df2.price\n",
    "Y.head(3)"
   ]
  },
  {
   "cell_type": "code",
   "execution_count": 59,
   "id": "4ec0105b",
   "metadata": {},
   "outputs": [],
   "source": [
    "# SPLITTING THE DATA FOR TRAIN AND TEST\n",
    "from sklearn.model_selection import train_test_split\n",
    "X_trains, X_tests, y_trains, y_tests = train_test_split(x, Y, test_size=0.3, random_state=42)"
   ]
  },
  {
   "cell_type": "code",
   "execution_count": 60,
   "id": "a06616d1",
   "metadata": {},
   "outputs": [
    {
     "data": {
      "text/html": [
       "<div>\n",
       "<style scoped>\n",
       "    .dataframe tbody tr th:only-of-type {\n",
       "        vertical-align: middle;\n",
       "    }\n",
       "\n",
       "    .dataframe tbody tr th {\n",
       "        vertical-align: top;\n",
       "    }\n",
       "\n",
       "    .dataframe thead th {\n",
       "        text-align: right;\n",
       "    }\n",
       "</style>\n",
       "<table border=\"1\" class=\"dataframe\">\n",
       "  <thead>\n",
       "    <tr style=\"text-align: right;\">\n",
       "      <th></th>\n",
       "      <th>bedrooms</th>\n",
       "      <th>bathrooms</th>\n",
       "      <th>sqft_living</th>\n",
       "      <th>floors</th>\n",
       "      <th>yr_built</th>\n",
       "      <th>City</th>\n",
       "    </tr>\n",
       "  </thead>\n",
       "  <tbody>\n",
       "    <tr>\n",
       "      <th>0</th>\n",
       "      <td>3</td>\n",
       "      <td>1</td>\n",
       "      <td>1340</td>\n",
       "      <td>1</td>\n",
       "      <td>1955</td>\n",
       "      <td>36</td>\n",
       "    </tr>\n",
       "    <tr>\n",
       "      <th>2</th>\n",
       "      <td>3</td>\n",
       "      <td>2</td>\n",
       "      <td>1930</td>\n",
       "      <td>1</td>\n",
       "      <td>1966</td>\n",
       "      <td>18</td>\n",
       "    </tr>\n",
       "    <tr>\n",
       "      <th>3</th>\n",
       "      <td>3</td>\n",
       "      <td>2</td>\n",
       "      <td>2000</td>\n",
       "      <td>1</td>\n",
       "      <td>1963</td>\n",
       "      <td>3</td>\n",
       "    </tr>\n",
       "    <tr>\n",
       "      <th>4</th>\n",
       "      <td>4</td>\n",
       "      <td>2</td>\n",
       "      <td>1940</td>\n",
       "      <td>1</td>\n",
       "      <td>1976</td>\n",
       "      <td>31</td>\n",
       "    </tr>\n",
       "    <tr>\n",
       "      <th>5</th>\n",
       "      <td>2</td>\n",
       "      <td>1</td>\n",
       "      <td>880</td>\n",
       "      <td>1</td>\n",
       "      <td>1938</td>\n",
       "      <td>35</td>\n",
       "    </tr>\n",
       "  </tbody>\n",
       "</table>\n",
       "</div>"
      ],
      "text/plain": [
       "   bedrooms  bathrooms  sqft_living  floors  yr_built  City\n",
       "0         3          1         1340       1      1955    36\n",
       "2         3          2         1930       1      1966    18\n",
       "3         3          2         2000       1      1963     3\n",
       "4         4          2         1940       1      1976    31\n",
       "5         2          1          880       1      1938    35"
      ]
     },
     "execution_count": 60,
     "metadata": {},
     "output_type": "execute_result"
    }
   ],
   "source": [
    "x.head()"
   ]
  },
  {
   "cell_type": "code",
   "execution_count": 61,
   "id": "ba054f03",
   "metadata": {},
   "outputs": [
    {
     "data": {
      "text/plain": [
       "0    313000\n",
       "2    342000\n",
       "3    420000\n",
       "4    550000\n",
       "5    490000\n",
       "Name: price, dtype: int64"
      ]
     },
     "execution_count": 61,
     "metadata": {},
     "output_type": "execute_result"
    }
   ],
   "source": [
    "Y.head()"
   ]
  },
  {
   "cell_type": "markdown",
   "id": "15d0b863",
   "metadata": {},
   "source": [
    "## Gradient Boosting - Regression "
   ]
  },
  {
   "cell_type": "code",
   "execution_count": 62,
   "id": "b02d333b",
   "metadata": {},
   "outputs": [
    {
     "data": {
      "text/plain": [
       "GradientBoostingRegressor()"
      ]
     },
     "execution_count": 62,
     "metadata": {},
     "output_type": "execute_result"
    }
   ],
   "source": [
    "#importing GradientBoosting regression model\n",
    "from sklearn.ensemble import GradientBoostingRegressor\n",
    "import sklearn.metrics as metrics# metrics for getting accuracy\n",
    "from sklearn.metrics import r2_score, mean_absolute_error # r2 for performance and mse for getting error\n",
    "from sklearn.metrics import mean_squared_error\n",
    "from math import sqrt\n",
    "gb = GradientBoostingRegressor() # assign the model in gb\n",
    "gb.fit(X_trains,y_trains) # fitting the model without parameters\n",
    "    "
   ]
  },
  {
   "cell_type": "code",
   "execution_count": 63,
   "id": "2983e93a",
   "metadata": {},
   "outputs": [
    {
     "name": "stdout",
     "output_type": "stream",
     "text": [
      "Accuracy of training set: 0.6944619036272448\n",
      "Accuracy of testing set:  0.6514912602571087\n"
     ]
    }
   ],
   "source": [
    "print(f\"Accuracy of training set:\", gb.score(X_trains, y_trains))# accuracy of training\n",
    "print(f\"Accuracy of testing set: \", gb.score(X_tests, y_tests))# accuracy of testing"
   ]
  },
  {
   "cell_type": "code",
   "execution_count": 64,
   "id": "c0e91100",
   "metadata": {},
   "outputs": [],
   "source": [
    " predict_gb =gb.predict(X_tests)"
   ]
  },
  {
   "cell_type": "code",
   "execution_count": 65,
   "id": "085c2773",
   "metadata": {},
   "outputs": [
    {
     "name": "stdout",
     "output_type": "stream",
     "text": [
      "Metrics for Gradient Boosting:\n",
      "Mean Squared Error             : 15776096981.600958\n",
      "\n",
      "Root Mean Squared Error        : 125602.93380968837\n",
      "\n",
      "Mean Absolute Error            : 91484.23428134121\n",
      "\n",
      "Train score  : 0.6944619036272448\n",
      "Test score   : 0.6514912602571087\n",
      "\n"
     ]
    }
   ],
   "source": [
    "print(\"Metrics for Gradient Boosting:\")\n",
    "print (f'Mean Squared Error             : {metrics.mean_squared_error(y_tests, predict_gb)}\\n'\n",
    "  f'\\nRoot Mean Squared Error        : '\n",
    "  f'{np.sqrt(metrics.mean_squared_error(y_tests, predict_gb))}\\n'\n",
    "  f'\\nMean Absolute Error            : {metrics.mean_absolute_error(y_tests, predict_gb)}\\n'\n",
    "          #f'Mean absolute percentage error: '\n",
    "          #f'{metrics.mean_absolute_percentage_error(y_tests, predict_gb)}\\n'\n",
    "  f'\\n'\n",
    "  f'Train score  : {gb.score(X_trains, y_trains)}\\n'\n",
    "  f'Test score   : {gb.score(X_tests, y_tests)}\\n')"
   ]
  },
  {
   "cell_type": "code",
   "execution_count": 66,
   "id": "346e28ab",
   "metadata": {},
   "outputs": [
    {
     "name": "stdout",
     "output_type": "stream",
     "text": [
      "R sqare value: 0.409808840946969\n"
     ]
    }
   ],
   "source": [
    "# checking the r square value\n",
    "# sk learn has a inbuild package to find metrics\n",
    "R_square = r2_score(predict_gb,y_tests) \n",
    "print('R sqare value:', R_square) \n"
   ]
  },
  {
   "cell_type": "code",
   "execution_count": null,
   "id": "7fcddb18",
   "metadata": {},
   "outputs": [],
   "source": []
  },
  {
   "cell_type": "code",
   "execution_count": null,
   "id": "58dd0af5",
   "metadata": {},
   "outputs": [],
   "source": []
  },
  {
   "cell_type": "markdown",
   "id": "9e9d4a61",
   "metadata": {},
   "source": [
    "## Extreme Gradient Boosting - Regression"
   ]
  },
  {
   "cell_type": "code",
   "execution_count": 68,
   "id": "e63934e6",
   "metadata": {},
   "outputs": [
    {
     "data": {
      "text/plain": [
       "XGBRegressor(base_score=0.5, booster='gbtree', colsample_bylevel=1,\n",
       "             colsample_bynode=1, colsample_bytree=1, enable_categorical=False,\n",
       "             gamma=0, gpu_id=-1, importance_type=None,\n",
       "             interaction_constraints='', learning_rate=0.300000012,\n",
       "             max_delta_step=0, max_depth=6, min_child_weight=1, missing=nan,\n",
       "             monotone_constraints='()', n_estimators=100, n_jobs=4,\n",
       "             num_parallel_tree=1, predictor='auto', random_state=0, reg_alpha=0,\n",
       "             reg_lambda=1, scale_pos_weight=1, subsample=1, tree_method='exact',\n",
       "             validate_parameters=1, verbosity=None)"
      ]
     },
     "execution_count": 68,
     "metadata": {},
     "output_type": "execute_result"
    }
   ],
   "source": [
    "# import xgboost regression\n",
    "from xgboost import XGBRegressor\n",
    "xgb = XGBRegressor() # assigning \n",
    "xgb.fit(X_trains,y_trains) # fitting the model"
   ]
  },
  {
   "cell_type": "code",
   "execution_count": 69,
   "id": "57a58d8d",
   "metadata": {},
   "outputs": [
    {
     "name": "stdout",
     "output_type": "stream",
     "text": [
      "Accuracy of training set: 0.9285878230884484\n",
      "Accuracy of testing set:  0.6447417815925016\n"
     ]
    }
   ],
   "source": [
    "print(f\"Accuracy of training set:\", xgb.score(X_trains, y_trains))# accuracy of training\n",
    "print(f\"Accuracy of testing set: \", xgb.score(X_tests, y_tests))# accuracy of testing"
   ]
  },
  {
   "cell_type": "code",
   "execution_count": 70,
   "id": "ed00e101",
   "metadata": {},
   "outputs": [],
   "source": [
    " predict_xgb =xgb.predict(X_tests)"
   ]
  },
  {
   "cell_type": "code",
   "execution_count": 71,
   "id": "4a022b77",
   "metadata": {},
   "outputs": [
    {
     "name": "stdout",
     "output_type": "stream",
     "text": [
      "Metrics for xtra Gradient Boosting:\n",
      "Mean Squared Error             : 16081628573.338495\n",
      "\n",
      "Root Mean Squared Error        : 126813.36117830209\n",
      "\n",
      "Mean Absolute Error            : 89543.59681485711\n",
      "\n",
      "Train score  : 0.9285878230884484\n",
      "Test score   : 0.6447417815925016\n",
      "\n"
     ]
    }
   ],
   "source": [
    "print(\"Metrics for xtra Gradient Boosting:\")\n",
    "\n",
    "print (f'Mean Squared Error             : {metrics.mean_squared_error(y_tests, predict_xgb)}\\n'\n",
    "  f'\\nRoot Mean Squared Error        : '\n",
    "  f'{np.sqrt(metrics.mean_squared_error(y_tests, predict_xgb))}\\n'\n",
    "  f'\\nMean Absolute Error            : {metrics.mean_absolute_error(y_tests, predict_xgb)}\\n'\n",
    "          #f'Mean absolute percentage error: '\n",
    "          #f'{metrics.mean_absolute_percentage_error(y_test, predict_xgb)}\\n'\n",
    "  f'\\n'\n",
    "  f'Train score  : {xgb.score(X_trains, y_trains)}\\n'\n",
    "  f'Test score   : {xgb.score(X_tests, y_tests)}\\n')"
   ]
  },
  {
   "cell_type": "code",
   "execution_count": 72,
   "id": "47189510",
   "metadata": {},
   "outputs": [
    {
     "name": "stdout",
     "output_type": "stream",
     "text": [
      "R sqare value: 0.543502935169902\n"
     ]
    }
   ],
   "source": [
    "\n",
    "R_square = r2_score(predict_xgb,y_tests) # r2\n",
    "print('R sqare value:', R_square) \n"
   ]
  },
  {
   "cell_type": "raw",
   "id": "fc04b5c2",
   "metadata": {},
   "source": [
    "xg boost model is Good performance on the training data, poor performance in testing data. so, we can say this model is overfitting\n",
    "this is called Low bias and high Variance"
   ]
  },
  {
   "cell_type": "markdown",
   "id": "b4b18f0a",
   "metadata": {},
   "source": [
    "## Random Forest- Regression"
   ]
  },
  {
   "cell_type": "code",
   "execution_count": 74,
   "id": "4a90d7b3",
   "metadata": {},
   "outputs": [
    {
     "data": {
      "text/plain": [
       "RandomForestRegressor()"
      ]
     },
     "execution_count": 74,
     "metadata": {},
     "output_type": "execute_result"
    }
   ],
   "source": [
    "from sklearn.ensemble import RandomForestRegressor\n",
    "forest = RandomForestRegressor()# assigning the model\n",
    "forest.fit(X_trains,y_trains) # fitting the model"
   ]
  },
  {
   "cell_type": "code",
   "execution_count": 75,
   "id": "8cb11999",
   "metadata": {},
   "outputs": [
    {
     "name": "stdout",
     "output_type": "stream",
     "text": [
      "Accuracy of training set: 0.9427403016317463\n",
      "Accuracy of testing set:  0.6426606890517912\n"
     ]
    }
   ],
   "source": [
    "print(f\"Accuracy of training set:\", forest.score(X_trains, y_trains))# accuracy of training data\n",
    "print(f\"Accuracy of testing set: \", forest.score(X_tests, y_tests))# accuracy of testing data"
   ]
  },
  {
   "cell_type": "code",
   "execution_count": 76,
   "id": "bb0d5dbf",
   "metadata": {},
   "outputs": [],
   "source": [
    "predict_forest =forest.predict(X_tests)# assigning the predict_forest"
   ]
  },
  {
   "cell_type": "code",
   "execution_count": 77,
   "id": "bc8b19ff",
   "metadata": {},
   "outputs": [
    {
     "name": "stdout",
     "output_type": "stream",
     "text": [
      "Metrics for Random Forest:\n",
      "Mean Squared Error             : 16175834296.19685\n",
      "\n",
      "Root Mean Squared Error        : 127184.25333427425\n",
      "\n",
      "Mean Absolute Error            : 91567.44498683626\n",
      "\n",
      "Train score  : 0.9427403016317463\n",
      "Test score   : 0.6426606890517912\n",
      "\n"
     ]
    }
   ],
   "source": [
    "print(\"Metrics for Random Forest:\")\n",
    "\n",
    "print (f'Mean Squared Error             : {metrics.mean_squared_error(y_tests, predict_forest)}\\n'\n",
    "  f'\\nRoot Mean Squared Error        : '\n",
    "  f'{np.sqrt(metrics.mean_squared_error(y_tests, predict_forest))}\\n'\n",
    "  f'\\nMean Absolute Error            : {metrics.mean_absolute_error(y_tests, predict_forest)}\\n'\n",
    "          #f'Mean abs % error: '\n",
    "          #f'{metrics.mean_absolute_percentage_error(y_test, predict)}\\n'\n",
    "  f'\\n'\n",
    "  f'Train score  : {forest.score(X_trains, y_trains)}\\n'\n",
    "  f'Test score   : {forest.score(X_tests, y_tests)}\\n')"
   ]
  },
  {
   "cell_type": "code",
   "execution_count": 78,
   "id": "adb33137",
   "metadata": {},
   "outputs": [
    {
     "name": "stdout",
     "output_type": "stream",
     "text": [
      "R sqare value: 0.4935728018749289\n"
     ]
    }
   ],
   "source": [
    " \n",
    "R_square = r2_score(predict_forest,y_tests) \n",
    "print('R sqare value:', R_square) "
   ]
  },
  {
   "cell_type": "raw",
   "id": "44c40e05",
   "metadata": {},
   "source": [
    "Random forest model also  Good performance on the training data, poor performance in testing data. so, we can say this model is overfitting\n",
    "this is called Low bias and high Variance"
   ]
  },
  {
   "cell_type": "markdown",
   "id": "3d927fd1",
   "metadata": {},
   "source": [
    "## LightGBM regressor"
   ]
  },
  {
   "cell_type": "code",
   "execution_count": 80,
   "id": "39dd5021",
   "metadata": {},
   "outputs": [
    {
     "data": {
      "text/plain": [
       "LGBMRegressor()"
      ]
     },
     "execution_count": 80,
     "metadata": {},
     "output_type": "execute_result"
    }
   ],
   "source": [
    "from lightgbm import LGBMRegressor\n",
    "lgbm = LGBMRegressor()# assigning the model\n",
    "lgbm.fit(X_trains,y_trains)# fitting the model"
   ]
  },
  {
   "cell_type": "code",
   "execution_count": 81,
   "id": "f6fe8df2",
   "metadata": {},
   "outputs": [
    {
     "name": "stdout",
     "output_type": "stream",
     "text": [
      "Accuracy of training set: 0.7944161573854611\n",
      "Accuracy of testing set:  0.6760218318965354\n"
     ]
    }
   ],
   "source": [
    "print(f\"Accuracy of training set:\", lgbm.score(X_trains, y_trains))# accuracy of training data\n",
    "print(f\"Accuracy of testing set: \", lgbm.score(X_tests, y_tests))# accuracy of testing data"
   ]
  },
  {
   "cell_type": "code",
   "execution_count": 82,
   "id": "c792706b",
   "metadata": {},
   "outputs": [],
   "source": [
    "predict_lgbm =lgbm.predict(X_tests)"
   ]
  },
  {
   "cell_type": "code",
   "execution_count": 83,
   "id": "60ef3453",
   "metadata": {},
   "outputs": [
    {
     "name": "stdout",
     "output_type": "stream",
     "text": [
      "Metrics for LightGBM regresso:\n",
      "Mean Squared Error             : 14665660906.215275\n",
      "\n",
      "Root Mean Squared Error        : 121101.86169590984\n",
      "\n",
      "Mean Absolute Error            : 86024.9298167059\n",
      "\n",
      "Train score  : 0.7944161573854611\n",
      "Test score   : 0.6760218318965354\n",
      "\n"
     ]
    }
   ],
   "source": [
    "print(\"Metrics for LightGBM regresso:\")\n",
    "\n",
    "print (f'Mean Squared Error             : {metrics.mean_squared_error(y_tests, predict_lgbm)}\\n'\n",
    "  f'\\nRoot Mean Squared Error        : '\n",
    "  f'{np.sqrt(metrics.mean_squared_error(y_tests, predict_lgbm))}\\n'\n",
    "  f'\\nMean Absolute Error            : {metrics.mean_absolute_error(y_tests, predict_lgbm)}\\n'\n",
    "          #f'Mean absolute percentage error: '\n",
    "          #f'{metrics.mean_absolute_percentage_error(y_test, predict_lgbm)}\\n'\n",
    "  f'\\n'\n",
    "  f'Train score  : {lgbm.score(X_trains, y_trains)}\\n'\n",
    "  f'Test score   : {lgbm.score(X_tests, y_tests)}\\n')"
   ]
  },
  {
   "cell_type": "code",
   "execution_count": 84,
   "id": "9ce8d907",
   "metadata": {},
   "outputs": [
    {
     "name": "stdout",
     "output_type": "stream",
     "text": [
      "Coefficient of Determination for Light gbm 0.5493831703420213\n"
     ]
    }
   ],
   "source": [
    "from sklearn.metrics import r2_score \n",
    "R_square = r2_score(predict_lgbm,y_tests) # r2 value\n",
    "print('Coefficient of Determination for Light gbm', R_square) \n"
   ]
  },
  {
   "cell_type": "raw",
   "id": "a31641c3",
   "metadata": {},
   "source": [
    "LightGBM model perform well in both trainning and testing"
   ]
  },
  {
   "cell_type": "markdown",
   "id": "025328be",
   "metadata": {},
   "source": [
    "## Hyper Parameter Tuning for Gradient Boosting"
   ]
  },
  {
   "cell_type": "raw",
   "id": "5a3d393a",
   "metadata": {},
   "source": [
    "Hyper parameter Tuning is a way of selecting right set of parameter which useful for our model to increase our accuracy. A hyperparameter is a model argument whose value is set before the learning process begins. here, i am using Randomizedsearchcv for tuning our Gradient boosting model."
   ]
  },
  {
   "cell_type": "code",
   "execution_count": 86,
   "id": "58973213",
   "metadata": {},
   "outputs": [],
   "source": [
    "\n",
    "from sklearn.model_selection import RandomizedSearchCV # importing randomized search cv"
   ]
  },
  {
   "cell_type": "code",
   "execution_count": 87,
   "id": "64dc70c3",
   "metadata": {},
   "outputs": [],
   "source": [
    "# giving the different paerameters which we gonna use for tune our model\n",
    "Parameters = {\n",
    "    \n",
    "\"loss\":[\"squared_error\", \"absolute_error\", \"huber\", \"quantile\"], #It refers to the loss function to be minimized in each split.\n",
    "\"learning_rate\" : [0.05, 0.10, 0.15, 0.20, 0.25, 0.30 ] ,\n",
    "\"n_estimators\": [int(x) for x in np.linspace(start = 20 , stop = 1000, num = 5)] ,\n",
    "\"criterion\": [\"friedman_mse\", \"squared_error\", \"mse\", \"mae\"],\n",
    "\"min_samples_split\":[2,4,5,6,7,8, 10,12] ,\n",
    "\"min_samples_leaf\":[1,2,3,4,5,6,7,8,9],\n",
    "\"max_depth\":[3,4,5,6,7,8,9]\n",
    "\n",
    "}"
   ]
  },
  {
   "cell_type": "code",
   "execution_count": 88,
   "id": "afca9f51",
   "metadata": {},
   "outputs": [],
   "source": [
    "from sklearn.ensemble import GradientBoostingRegressor\n",
    "\n",
    "gb_tune = GradientBoostingRegressor() # assigning \n"
   ]
  },
  {
   "cell_type": "code",
   "execution_count": 89,
   "id": "0f6d1743",
   "metadata": {},
   "outputs": [
    {
     "name": "stdout",
     "output_type": "stream",
     "text": [
      "Fitting 5 folds for each of 100 candidates, totalling 500 fits\n"
     ]
    },
    {
     "data": {
      "text/plain": [
       "RandomizedSearchCV(cv=5, estimator=GradientBoostingRegressor(), n_iter=100,\n",
       "                   n_jobs=-1,\n",
       "                   param_distributions={'criterion': ['friedman_mse',\n",
       "                                                      'squared_error', 'mse',\n",
       "                                                      'mae'],\n",
       "                                        'learning_rate': [0.05, 0.1, 0.15, 0.2,\n",
       "                                                          0.25, 0.3],\n",
       "                                        'loss': ['squared_error',\n",
       "                                                 'absolute_error', 'huber',\n",
       "                                                 'quantile'],\n",
       "                                        'max_depth': [3, 4, 5, 6, 7, 8, 9],\n",
       "                                        'min_samples_leaf': [1, 2, 3, 4, 5, 6,\n",
       "                                                             7, 8, 9],\n",
       "                                        'min_samples_split': [2, 4, 5, 6, 7, 8,\n",
       "                                                              10, 12],\n",
       "                                        'n_estimators': [20, 265, 510, 755,\n",
       "                                                         1000]},\n",
       "                   scoring='r2', verbose=3)"
      ]
     },
     "execution_count": 89,
     "metadata": {},
     "output_type": "execute_result"
    }
   ],
   "source": [
    "gb_tune=RandomizedSearchCV(estimator=gb, param_distributions=Parameters,scoring='r2', n_iter=100,n_jobs=-1,cv=5,verbose=3)\n",
    "gb_tune.fit(X_trains, y_trains) #fitting the model"
   ]
  },
  {
   "cell_type": "code",
   "execution_count": 90,
   "id": "74e76394",
   "metadata": {},
   "outputs": [
    {
     "data": {
      "text/plain": [
       "{'n_estimators': 755,\n",
       " 'min_samples_split': 2,\n",
       " 'min_samples_leaf': 2,\n",
       " 'max_depth': 3,\n",
       " 'loss': 'huber',\n",
       " 'learning_rate': 0.05,\n",
       " 'criterion': 'mse'}"
      ]
     },
     "execution_count": 90,
     "metadata": {},
     "output_type": "execute_result"
    }
   ],
   "source": [
    "gb_tune.best_params_ #getting best parameters"
   ]
  },
  {
   "cell_type": "code",
   "execution_count": 91,
   "id": "b6354219",
   "metadata": {},
   "outputs": [
    {
     "data": {
      "text/plain": [
       "0.6431721375725632"
      ]
     },
     "execution_count": 91,
     "metadata": {},
     "output_type": "execute_result"
    }
   ],
   "source": [
    "gb_tune.best_score_#getting bestscore"
   ]
  },
  {
   "cell_type": "code",
   "execution_count": 92,
   "id": "139e72a6",
   "metadata": {},
   "outputs": [
    {
     "data": {
      "text/plain": [
       "GradientBoostingRegressor(criterion='mse', learning_rate=0.05, loss='huber',\n",
       "                          min_samples_leaf=2, n_estimators=755)"
      ]
     },
     "execution_count": 92,
     "metadata": {},
     "output_type": "execute_result"
    }
   ],
   "source": [
    "gb_tune.best_estimator_ #getting best estimators"
   ]
  },
  {
   "cell_type": "code",
   "execution_count": 101,
   "id": "b8907c96",
   "metadata": {},
   "outputs": [],
   "source": [
    "grboost_tune = GradientBoostingRegressor(criterion='mse', learning_rate=0.05, loss='huber',\n",
    "                          max_depth=3, min_samples_leaf=2, min_samples_split=2,\n",
    "                          n_estimators=755) # assigning the selected parameters in new key"
   ]
  },
  {
   "cell_type": "code",
   "execution_count": 102,
   "id": "89377d31",
   "metadata": {},
   "outputs": [
    {
     "data": {
      "text/plain": [
       "GradientBoostingRegressor(criterion='mse', learning_rate=0.05, loss='huber',\n",
       "                          min_samples_leaf=2, n_estimators=755)"
      ]
     },
     "execution_count": 102,
     "metadata": {},
     "output_type": "execute_result"
    }
   ],
   "source": [
    "grboost_tune.fit(X_trains, y_trains) # fitting the model using selected parameters"
   ]
  },
  {
   "cell_type": "code",
   "execution_count": 103,
   "id": "f05c0a35",
   "metadata": {},
   "outputs": [],
   "source": [
    " predict_grboost =grboost_tune.predict(X_tests)"
   ]
  },
  {
   "cell_type": "code",
   "execution_count": 104,
   "id": "c24cb8f5",
   "metadata": {},
   "outputs": [
    {
     "name": "stdout",
     "output_type": "stream",
     "text": [
      "Accuracy of training set: 0.7655479449503088\n",
      "Accuracy of testing set:  0.6855487962225322\n"
     ]
    }
   ],
   "source": [
    "print(f\"Accuracy of training set:\", grboost_tune.score(X_trains, y_trains))# accuracy of training data\n",
    "print(f\"Accuracy of testing set: \", grboost_tune.score(X_tests, y_tests))# accuracy of testing data"
   ]
  },
  {
   "cell_type": "code",
   "execution_count": 105,
   "id": "2cc05cb3",
   "metadata": {},
   "outputs": [
    {
     "name": "stdout",
     "output_type": "stream",
     "text": [
      "R sqare value: 0.5560642009182974\n"
     ]
    }
   ],
   "source": [
    "# getting R2 value\n",
    "R_square = r2_score(predict_grboost,y_tests) \n",
    "print('R sqare value:', R_square) \n"
   ]
  },
  {
   "cell_type": "code",
   "execution_count": 106,
   "id": "a3c13b15",
   "metadata": {},
   "outputs": [],
   "source": [
    "# getting the bias and variance\n",
    "from mlxtend.evaluate import bias_variance_decomp"
   ]
  },
  {
   "cell_type": "code",
   "execution_count": 119,
   "id": "4fab0d2f",
   "metadata": {},
   "outputs": [
    {
     "name": "stdout",
     "output_type": "stream",
     "text": [
      "Metrics for gradient boosting after tuning:\n",
      "Mean Squared Error             : 14234399660.77834\n",
      "\n",
      "Root Mean Squared Error        : 119308.00333916556\n",
      "\n",
      "Mean Absolute Error            : 84692.47087048776\n",
      "\n",
      "Train score  : 0.7212012082754896\n",
      "Test score   : 0.665955820531589\n",
      "\n"
     ]
    }
   ],
   "source": [
    "print(\"Metrics for gradient boosting after tuning:\")\n",
    "\n",
    "print (f'Mean Squared Error             : {metrics.mean_squared_error(y_tests, predict_grboost)}\\n'\n",
    "  f'\\nRoot Mean Squared Error        : '\n",
    "  f'{np.sqrt(metrics.mean_squared_error(y_tests, predict_grboost))}\\n'\n",
    "  f'\\nMean Absolute Error            : {metrics.mean_absolute_error(y_tests, predict_grboost)}\\n'\n",
    "          #f'Mean absolute percentage error: '\n",
    "          #f'{metrics.mean_absolute_percentage_error(y_test, predict_lgbm)}\\n'\n",
    "  f'\\n'\n",
    "  f'Train score  : {grboost_tune.score(X_trains, y_trains)}\\n'\n",
    "  f'Test score   : {grboost_tune.score(X_tests, y_tests)}\\n')"
   ]
  },
  {
   "cell_type": "markdown",
   "id": "491d2073",
   "metadata": {},
   "source": [
    "## MODEL EVALUATION\n"
   ]
  },
  {
   "cell_type": "raw",
   "id": "f20c1f3b",
   "metadata": {},
   "source": [
    "\n",
    "\n",
    "\n",
    " XGB  \n",
    " \n",
    "   RMSE -    126813\n",
    "   MSE  -    16081628573\n",
    "   MAE  -    89543\n",
    "   R SQUARE- 0.54\n",
    "   \n",
    " Gradient Boosting\n",
    " \n",
    "    RMSE -   125602\n",
    "\tMSE-     15776096981\n",
    "\tMAE-     91484\n",
    "\tR SQUARE-0.40\n",
    "    \n",
    "  Light XGB\t\n",
    "  \n",
    "   RMSE -    121101\n",
    "\tMSE-     14665660906\n",
    "\tMAE-     86024\n",
    "\tR SQUARE -0.54\n",
    "\n",
    " Random Forest\t\n",
    " \n",
    "    RMSE -    127184\n",
    "    MSE -     16175834296\n",
    "    MAE -     91567\n",
    "\tR SQUARE- 0.50\n",
    "    \n",
    "Gradient boosting After tuning\n",
    "\n",
    "    RMSE-     119308\n",
    "\tMSE  -    14234399660\n",
    "\tMAE -     84692\n",
    "\tR SQUARE- 0.55\n",
    "\n",
    "\n",
    "conclusion:\n",
    "    After implementation of multiple models in ensemble technique, first of all, Extreme gradient boosting \n",
    "and random forest Perform well in training and performed worst in testing, even though, both models\n",
    "has higher R square value Compare with other models. We can call this scenario as overfitting. \n",
    "Moreover, it has higher error rates as well. Secondly, gradient boosting and light gbm are performed\n",
    "Well in both training and testing. Both models have not much difference in training and testing data.\n",
    "Comparatively, gradient boosting performs well. Finally, hyperparameter tuning with gradient boosting,\n",
    "For increase the performance of gradient boosting model with assigning perfect parameter to train the model\n",
    "To increase more accuracy.  To do so, gradient boosting model give the R square of 0.55 with lesser error\n",
    "Rates when compare with others. we can say this Model as low variance and low bias because it has not\n",
    "significant difference in training and testing. Moreover, we can say this model gives reliable prediction.\n",
    "Thus, gradient boosting is a best model to estimates the price in different neighborhood in USA.\n",
    "\n",
    "\n"
   ]
  },
  {
   "cell_type": "code",
   "execution_count": null,
   "id": "9cb44395",
   "metadata": {},
   "outputs": [],
   "source": []
  }
 ],
 "metadata": {
  "kernelspec": {
   "display_name": "Python 3",
   "language": "python",
   "name": "python3"
  },
  "language_info": {
   "codemirror_mode": {
    "name": "ipython",
    "version": 3
   },
   "file_extension": ".py",
   "mimetype": "text/x-python",
   "name": "python",
   "nbconvert_exporter": "python",
   "pygments_lexer": "ipython3",
   "version": "3.8.8"
  }
 },
 "nbformat": 4,
 "nbformat_minor": 5
}
